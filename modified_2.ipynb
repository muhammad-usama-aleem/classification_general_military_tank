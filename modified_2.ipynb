{
  "nbformat": 4,
  "nbformat_minor": 0,
  "metadata": {
    "colab": {
      "name": "experiment.ipynb",
      "provenance": [],
      "collapsed_sections": [],
      "include_colab_link": true
    },
    "kernelspec": {
      "display_name": "Python 3",
      "name": "python3"
    },
    "language_info": {
      "name": "python"
    }
  },
  "cells": [
    {
      "cell_type": "markdown",
      "metadata": {
        "id": "view-in-github",
        "colab_type": "text"
      },
      "source": [
        "<a href=\"https://colab.research.google.com/github/muhammad-usama-aleem/classification_general_military_tank/blob/main/modified_2.ipynb\" target=\"_parent\"><img src=\"https://colab.research.google.com/assets/colab-badge.svg\" alt=\"Open In Colab\"/></a>"
      ]
    },
    {
      "cell_type": "code",
      "metadata": {
        "id": "tAb77yZ9fzMG",
        "colab": {
          "base_uri": "https://localhost:8080/"
        },
        "outputId": "4d7948b3-9280-409c-fc9f-3008f469166a"
      },
      "source": [
        "from google.colab import drive\n",
        "drive.mount(\"/content/gdrive\")"
      ],
      "execution_count": 1,
      "outputs": [
        {
          "output_type": "stream",
          "name": "stdout",
          "text": [
            "Mounted at /content/gdrive\n"
          ]
        }
      ]
    },
    {
      "cell_type": "code",
      "metadata": {
        "id": "pafL7Li0jyXW"
      },
      "source": [
        "!pip install unrar\n",
        "!unrar x /content/gdrive/MyDrive/dataset.rar"
      ],
      "execution_count": null,
      "outputs": []
    },
    {
      "cell_type": "code",
      "metadata": {
        "id": "h3MD4fhgcKdv"
      },
      "source": [
        "import os\n",
        "\n",
        "base_dir = '/content/combined/'\n",
        "os.mkdir(base_dir)\n",
        "\n",
        "!mv /content/tanks /content/combined\n",
        "!mv /content/men /content/combined\n",
        "!mv /content/army /content/combined"
      ],
      "execution_count": 3,
      "outputs": []
    },
    {
      "cell_type": "code",
      "metadata": {
        "id": "KDYqXuzyqml2"
      },
      "source": [
        "# removing gif file\n",
        "\n",
        "import os\n",
        "\n",
        "# !rm -rf /content/main\n",
        "img = os.listdir('/content/combined/men')\n",
        "for i,v in enumerate(img):\n",
        "  if v[-3:] == 'gif':\n",
        "    # !rm -rf /content/combined/men/img[i]\n",
        "    os.remove(\"/content/combined/men/{}\".format(img[i]))"
      ],
      "execution_count": 4,
      "outputs": []
    },
    {
      "cell_type": "code",
      "metadata": {
        "id": "9jr9Sy9rrABN"
      },
      "source": [
        "import os\n",
        "for File in os.listdir(\"/content/combined/men\"):\n",
        "    if File.endswith(\".gif\"):\n",
        "        print(\"true\")"
      ],
      "execution_count": 5,
      "outputs": []
    },
    {
      "cell_type": "code",
      "metadata": {
        "id": "ZIIt1A-bijXe"
      },
      "source": [
        "import os\n",
        "\n",
        "main_dir = '/content/main/'\n",
        "os.mkdir(main_dir)"
      ],
      "execution_count": 6,
      "outputs": []
    },
    {
      "cell_type": "code",
      "metadata": {
        "id": "DP5giKkdlxJm"
      },
      "source": [
        "# !rm -rf /content/main"
      ],
      "execution_count": 7,
      "outputs": []
    },
    {
      "cell_type": "code",
      "metadata": {
        "id": "TgaC0skAi4OE"
      },
      "source": [
        "#create two folders (train and validation)\n",
        "train_dir = os.path.join(main_dir, 'train')\n",
        "os.mkdir(train_dir)\n",
        "\n",
        "test_dir = os.path.join(main_dir, 'test')\n",
        "os.mkdir(test_dir)\n",
        "\n",
        "#Under train folder create five folders \n",
        "\n",
        "train_cloud_dir = os.path.join(train_dir, 'army')\n",
        "os.mkdir(train_cloud_dir)\n",
        "\n",
        "train_foggy_dir = os.path.join(train_dir, 'men')\n",
        "os.mkdir(train_foggy_dir)\n",
        "\n",
        "train_rainy_dir = os.path.join(train_dir, 'tanks')\n",
        "os.mkdir(train_rainy_dir)\n",
        "\n",
        "#Under validation folder create five folders \n",
        "\n",
        "validation_cloud_dir = os.path.join(test_dir, 'army')\n",
        "os.mkdir(validation_cloud_dir)\n",
        "\n",
        "validation_foggy_dir = os.path.join(test_dir, 'men')\n",
        "os.mkdir(validation_foggy_dir)\n",
        "\n",
        "validation_rainy_dir = os.path.join(test_dir, 'tanks')\n",
        "os.mkdir(validation_rainy_dir)"
      ],
      "execution_count": 7,
      "outputs": []
    },
    {
      "cell_type": "code",
      "metadata": {
        "id": "tVJYRP66kMrZ"
      },
      "source": [
        "army_SOURCE_DIR = '/content/combined/army/'\n",
        "TRAINING_army_DIR = '/content/main/train/army/'\n",
        "test_army_DIR = '/content/main/test/army/'\n",
        "\n",
        "men_SOURCE_DIR = '/content/combined/men/'\n",
        "TRAINING_men_DIR = '/content/main/train/men/'\n",
        "test_men_DIR = '/content/main/test/men/'\n",
        "\n",
        "tanks_SOURCE_DIR = '/content/combined/tanks/'\n",
        "TRAINING_tanks_DIR = '/content/main/train/tanks/'\n",
        "test_tanks_DIR = '/content/main/test/tanks/'"
      ],
      "execution_count": 8,
      "outputs": []
    },
    {
      "cell_type": "code",
      "metadata": {
        "id": "GwF8LBrtk9Gd"
      },
      "source": [
        "def split_data(SOURCE, TRAINING, VALIDATION, SPLIT_SIZE):\n",
        "    files = []\n",
        "    for filename in os.listdir(SOURCE):\n",
        "        file = SOURCE + filename\n",
        "        if os.path.getsize(file) > 0:\n",
        "            files.append(filename)\n",
        "        else:\n",
        "            print(filename + \" is zero length, so ignoring.\")\n",
        "\n",
        "    training_length = int(len(files) * SPLIT_SIZE)\n",
        "    print('training_length', training_length)\n",
        "    valid_length = int(len(files) - training_length)\n",
        "    print('test_length', valid_length)\n",
        "    shuffled_set = random.sample(files, len(files))\n",
        "    training_set = shuffled_set[0:training_length]\n",
        "    valid_set = shuffled_set[training_length:]\n",
        "\n",
        "    for filename in training_set:\n",
        "        this_file = SOURCE + filename\n",
        "        destination = TRAINING + filename\n",
        "        copyfile(this_file, destination)\n",
        "\n",
        "    for filename in valid_set:\n",
        "        this_file = SOURCE + filename\n",
        "        destination = VALIDATION + filename\n",
        "        copyfile(this_file, destination)"
      ],
      "execution_count": 9,
      "outputs": []
    },
    {
      "cell_type": "code",
      "metadata": {
        "colab": {
          "base_uri": "https://localhost:8080/"
        },
        "id": "3zo36gvRlDMW",
        "outputId": "5fa3195a-8342-4ebe-b506-50ab31a654db"
      },
      "source": [
        "import os\n",
        "import random\n",
        "from shutil import copyfile\n",
        "\n",
        "split_size = .85\n",
        "\n",
        "split_data(army_SOURCE_DIR, TRAINING_army_DIR, test_army_DIR, split_size)\n",
        "split_data(men_SOURCE_DIR, TRAINING_men_DIR, test_men_DIR, split_size)\n",
        "split_data(tanks_SOURCE_DIR, TRAINING_tanks_DIR, test_tanks_DIR, split_size)"
      ],
      "execution_count": 10,
      "outputs": [
        {
          "output_type": "stream",
          "name": "stdout",
          "text": [
            "training_length 1275\n",
            "test_length 225\n",
            "training_length 1197\n",
            "test_length 212\n",
            "training_length 917\n",
            "test_length 162\n"
          ]
        }
      ]
    },
    {
      "cell_type": "code",
      "metadata": {
        "id": "y--NrK0HlDI7"
      },
      "source": [
        ""
      ],
      "execution_count": 11,
      "outputs": []
    },
    {
      "cell_type": "markdown",
      "metadata": {
        "id": "F1_yQMHQm9jt"
      },
      "source": [
        "# train data"
      ]
    },
    {
      "cell_type": "code",
      "metadata": {
        "colab": {
          "base_uri": "https://localhost:8080/"
        },
        "id": "WCWj_WqcuRvN",
        "outputId": "5b21c566-d1bd-4c0b-b047-e157322c4143"
      },
      "source": [
        "import numpy as np\n",
        "import tensorflow as tf\n",
        "\n",
        "import numpy as np \n",
        "import pandas as pd \n",
        "import matplotlib.pyplot as plt\n",
        "import os\n",
        "\n",
        "dataset_path = os.listdir('/content/main/train')\n",
        "\n",
        "print (dataset_path)  #what kinds of classes are in this dataset\n",
        "\n",
        "print(\"Types of classes labels found: \", len(dataset_path))"
      ],
      "execution_count": 11,
      "outputs": [
        {
          "output_type": "stream",
          "name": "stdout",
          "text": [
            "['tanks', 'army', 'men']\n",
            "Types of classes labels found:  3\n"
          ]
        }
      ]
    },
    {
      "cell_type": "code",
      "metadata": {
        "id": "qdMC776Pq9Em"
      },
      "source": [
        "train_class_labels = []\n",
        "\n",
        "for item in dataset_path:\n",
        " # Get all the file names\n",
        " all_classes = os.listdir('/content/main/train' + '/' +item)\n",
        "#  print(all_classes)\n",
        "\n",
        " # Add them to the list\n",
        " for room in all_classes:\n",
        "    train_class_labels.append((item, str('dataset_path' + '/' +item) + '/' + room))\n",
        "    # print(dataset_path, item, room)"
      ],
      "execution_count": 23,
      "outputs": []
    },
    {
      "cell_type": "code",
      "metadata": {
        "colab": {
          "base_uri": "https://localhost:8080/"
        },
        "id": "ltfTGy_3ubg2",
        "outputId": "b44d0283-ec13-45d9-ea32-704decd98d48"
      },
      "source": [
        "# Build a dataframe        \n",
        "df = pd.DataFrame(data=train_class_labels, columns=['Labels', 'image'])\n",
        "print(df.head())\n",
        "print(df.tail())"
      ],
      "execution_count": 24,
      "outputs": [
        {
          "output_type": "stream",
          "name": "stdout",
          "text": [
            "  Labels                                  image\n",
            "0  tanks          dataset_path/tanks/t55_l1.jpg\n",
            "1  tanks      dataset_path/tanks/tank_ex_l2.jpg\n",
            "2  tanks       dataset_path/tanks/jaguar_l2.jpg\n",
            "3  tanks       dataset_path/tanks/bmpt_main.jpg\n",
            "4  tanks  dataset_path/tanks/leopard_2ng_l1.jpg\n",
            "     Labels                          image\n",
            "3384    men  dataset_path/men/00001100.jpg\n",
            "3385    men  dataset_path/men/00001017.jpg\n",
            "3386    men  dataset_path/men/00002299.jpg\n",
            "3387    men  dataset_path/men/00000135.jpg\n",
            "3388    men  dataset_path/men/00001706.jpg\n"
          ]
        }
      ]
    },
    {
      "cell_type": "code",
      "metadata": {
        "colab": {
          "base_uri": "https://localhost:8080/"
        },
        "id": "qoW-d960vdZx",
        "outputId": "4c83c1d7-5b79-4b4b-d77a-08026f6915c8"
      },
      "source": [
        "# Let's check how many samples for each category are present\n",
        "print(\"Total number of images in the dataset: \", len(df))\n",
        "\n",
        "label_count = df['Labels'].value_counts()\n",
        "print(label_count)"
      ],
      "execution_count": 25,
      "outputs": [
        {
          "output_type": "stream",
          "name": "stdout",
          "text": [
            "Total number of images in the dataset:  3389\n",
            "army     1275\n",
            "men      1197\n",
            "tanks     917\n",
            "Name: Labels, dtype: int64\n"
          ]
        }
      ]
    },
    {
      "cell_type": "code",
      "metadata": {
        "colab": {
          "base_uri": "https://localhost:8080/"
        },
        "id": "OFbkS9RPvj49",
        "outputId": "64854286-1f90-49c2-d843-815c4e1e651a"
      },
      "source": [
        "import cv2\n",
        "path = '/content/main/train/'\n",
        "dataset_path = os.listdir('/content/main/train')\n",
        "\n",
        "im_size = 224\n",
        "\n",
        "train_images = []\n",
        "train_labels = []\n",
        "\n",
        "for i in dataset_path:\n",
        "    data_path = path + str(i)\n",
        "    filenames = [i for i in os.listdir(data_path) ]\n",
        "    print(data_path)\n",
        "    for f in filenames:\n",
        "        img = cv2.imread(data_path + '/' + f)\n",
        "        img = cv2.resize(img, (im_size, im_size))\n",
        "        train_images.append(img)\n",
        "        train_labels.append(i)"
      ],
      "execution_count": 26,
      "outputs": [
        {
          "output_type": "stream",
          "name": "stdout",
          "text": [
            "/content/main/train/tanks\n",
            "/content/main/train/army\n",
            "/content/main/train/men\n"
          ]
        }
      ]
    },
    {
      "cell_type": "code",
      "metadata": {
        "colab": {
          "base_uri": "https://localhost:8080/"
        },
        "id": "wkOcLfogvn4O",
        "outputId": "e5106309-d575-4e91-cf7a-44eaec1359fd"
      },
      "source": [
        "train_images = np.array(train_images)\n",
        "print(train_images.shape)\n",
        "train_images = train_images.astype('float32') / 255.0\n",
        "# train_images = preprocess_input(train_images)\n",
        "print(train_images.shape)"
      ],
      "execution_count": 27,
      "outputs": [
        {
          "output_type": "stream",
          "name": "stdout",
          "text": [
            "(3389, 224, 224, 3)\n",
            "(3389, 224, 224, 3)\n"
          ]
        }
      ]
    },
    {
      "cell_type": "code",
      "metadata": {
        "colab": {
          "base_uri": "https://localhost:8080/"
        },
        "id": "rQUC9dM_vsI4",
        "outputId": "d4764778-e4f2-405e-b2e8-1dd4095106e6"
      },
      "source": [
        "from sklearn.preprocessing import LabelEncoder , OneHotEncoder\n",
        "y=df['Labels'].values\n",
        "print(y)\n",
        "print(len(y))\n",
        "print(list(set(y)))\n",
        "y_labelencoder = LabelEncoder ()\n",
        "y = y_labelencoder.fit_transform (y)\n",
        "print(y)\n",
        "print(list(set(y)))"
      ],
      "execution_count": 28,
      "outputs": [
        {
          "output_type": "stream",
          "name": "stdout",
          "text": [
            "['tanks' 'tanks' 'tanks' ... 'men' 'men' 'men']\n",
            "3389\n",
            "['tanks', 'army', 'men']\n",
            "[2 2 2 ... 1 1 1]\n",
            "[0, 1, 2]\n"
          ]
        }
      ]
    },
    {
      "cell_type": "code",
      "metadata": {
        "colab": {
          "base_uri": "https://localhost:8080/"
        },
        "id": "wgPoPUdkwDiz",
        "outputId": "743d1509-641c-4a63-c9f2-034e9c686a69"
      },
      "source": [
        "y=y.reshape(-1,1)\n",
        "\n",
        "from sklearn.compose import ColumnTransformer\n",
        "ct = ColumnTransformer([('my_ohe', OneHotEncoder(), [0])], remainder='passthrough')\n",
        "Y = ct.fit_transform(y) #.toarray()\n",
        "print(Y[:5])\n",
        "print(Y[:-5])"
      ],
      "execution_count": 29,
      "outputs": [
        {
          "output_type": "stream",
          "name": "stdout",
          "text": [
            "[[0. 0. 1.]\n",
            " [0. 0. 1.]\n",
            " [0. 0. 1.]\n",
            " [0. 0. 1.]\n",
            " [0. 0. 1.]]\n",
            "[[0. 0. 1.]\n",
            " [0. 0. 1.]\n",
            " [0. 0. 1.]\n",
            " ...\n",
            " [0. 1. 0.]\n",
            " [0. 1. 0.]\n",
            " [0. 1. 0.]]\n"
          ]
        }
      ]
    },
    {
      "cell_type": "code",
      "metadata": {
        "id": "kgnPjk2HY30-"
      },
      "source": [
        "height = 224\n",
        "width = 224\n",
        "channels = 3\n",
        "\n",
        "n_classes = 3\n",
        "input_shape = (height, width, channels)\n",
        "\n",
        "epochs = 50\n",
        "batch_size = 16"
      ],
      "execution_count": 30,
      "outputs": []
    },
    {
      "cell_type": "code",
      "metadata": {
        "id": "PO0WAucm9D26"
      },
      "source": [
        "from tensorflow.keras.applications import EfficientNetB0 as Net\n",
        "from tensorflow.keras.applications.imagenet_utils import preprocess_input\n",
        "from tensorflow.keras import layers\n",
        "\n",
        "\n",
        "NUM_CLASSES = 3\n",
        "IMG_SIZE = 224\n",
        "size = (IMG_SIZE, IMG_SIZE)\n",
        "\n",
        "\n",
        "inputs = layers.Input(shape=(IMG_SIZE, IMG_SIZE, 3))\n",
        "\n",
        "# loading pretrained conv base model\n",
        "outputs = Net(weights=None, include_top=True, classes=NUM_CLASSES)(inputs)"
      ],
      "execution_count": 31,
      "outputs": []
    },
    {
      "cell_type": "code",
      "metadata": {
        "colab": {
          "base_uri": "https://localhost:8080/"
        },
        "id": "enXYSYRk9VDh",
        "outputId": "43a58493-597e-409c-d8cf-3347d4bed799"
      },
      "source": [
        "from tensorflow.keras.preprocessing.image import ImageDataGenerator\n",
        "from tensorflow.keras import optimizers\n",
        "\n",
        "\n",
        "train_datagen = ImageDataGenerator(\n",
        "    rescale=1.0 / 255,\n",
        "    rotation_range=40,\n",
        "    width_shift_range=0.2,\n",
        "    height_shift_range=0.2,\n",
        "    shear_range=0.2,\n",
        "    zoom_range=0.2,\n",
        "    horizontal_flip=True,\n",
        "    fill_mode=\"nearest\",\n",
        ")\n",
        "\n",
        "train_dir = '/content/main/train'\n",
        "# Note that the validation data should not be augmented!\n",
        "test_datagen = ImageDataGenerator(rescale=1.0 / 255)\n",
        "\n",
        "train_generator = train_datagen.flow_from_directory(\n",
        "    # This is the target directory\n",
        "    train_dir,\n",
        "    # All images will be resized to target height and width.\n",
        "    target_size=(height, width),\n",
        "    batch_size=batch_size,\n",
        "    # Since we use categorical_crossentropy loss, we need categorical labels\n",
        "    class_mode=\"categorical\",\n",
        ")\n",
        "\n",
        "validation_dir = '/content/main/test'\n",
        "\n",
        "validation_generator = test_datagen.flow_from_directory(\n",
        "    validation_dir,\n",
        "    target_size=(height, width),\n",
        "    batch_size=batch_size,\n",
        "    class_mode=\"categorical\",\n",
        ")\n",
        "\n",
        "model = tf.keras.Model(inputs, outputs)\n",
        "\n",
        "model.compile(\n",
        "    loss=\"categorical_crossentropy\",\n",
        "    optimizer=optimizers.RMSprop(learning_rate=2e-5),\n",
        "    metrics=[\"accuracy\"],\n",
        ")\n",
        "model.summary()"
      ],
      "execution_count": 32,
      "outputs": [
        {
          "output_type": "stream",
          "name": "stdout",
          "text": [
            "Found 3389 images belonging to 3 classes.\n",
            "Found 599 images belonging to 3 classes.\n",
            "Model: \"model\"\n",
            "_________________________________________________________________\n",
            "Layer (type)                 Output Shape              Param #   \n",
            "=================================================================\n",
            "input_1 (InputLayer)         [(None, 224, 224, 3)]     0         \n",
            "_________________________________________________________________\n",
            "efficientnetb0 (Functional)  (None, 3)                 4053414   \n",
            "=================================================================\n",
            "Total params: 4,053,414\n",
            "Trainable params: 4,011,391\n",
            "Non-trainable params: 42,023\n",
            "_________________________________________________________________\n"
          ]
        }
      ]
    },
    {
      "cell_type": "code",
      "metadata": {
        "id": "mVSQip5D9VAI"
      },
      "source": [
        "history = model.fit(\n",
        "    train_generator,\n",
        "    steps_per_epoch = train_generator.samples // batch_size,\n",
        "    epochs=epochs,\n",
        "    validation_data=validation_generator,\n",
        "    validation_steps=validation_generator.samples // batch_size,\n",
        "    verbose=1,\n",
        "    use_multiprocessing=True,\n",
        "    workers=4,\n",
        ")"
      ],
      "execution_count": null,
      "outputs": []
    },
    {
      "cell_type": "code",
      "metadata": {
        "id": "RO-RLAOZ9U9m"
      },
      "source": [
        "model.save_weights(\"classification_efficientnetb0_weights.h5\")"
      ],
      "execution_count": 24,
      "outputs": []
    },
    {
      "cell_type": "code",
      "metadata": {
        "id": "cOUxPqWXzU_Q",
        "colab": {
          "base_uri": "https://localhost:8080/"
        },
        "outputId": "42591a7c-2c02-48fd-876e-162b5c51e498"
      },
      "source": [
        "model_json = model.to_json()\n",
        "with open(\"model.json\", \"w\") as json_file:\n",
        "    json_file.write(model_json)"
      ],
      "execution_count": 25,
      "outputs": [
        {
          "output_type": "stream",
          "name": "stderr",
          "text": [
            "/usr/local/lib/python3.7/dist-packages/keras/utils/generic_utils.py:497: CustomMaskWarning: Custom mask layers require a config and must override get_config. When loading, the custom mask layer must be passed to the custom_objects argument.\n",
            "  category=CustomMaskWarning)\n"
          ]
        }
      ]
    },
    {
      "cell_type": "code",
      "metadata": {
        "id": "zvg34DNNA-XR"
      },
      "source": [
        "from google.colab import files\n",
        "files.download(\"/content/classification_efficientnetb0_weights.h5\")\n",
        "\n",
        "files.download(\"/content/model.json\")"
      ],
      "execution_count": null,
      "outputs": []
    },
    {
      "cell_type": "code",
      "metadata": {
        "id": "iBlmeQ93z5S8"
      },
      "source": [
        "CLASSES = ['army', 'men', 'tanks']"
      ],
      "execution_count": 27,
      "outputs": []
    },
    {
      "cell_type": "code",
      "metadata": {
        "id": "1Mxe19xm0dug",
        "colab": {
          "base_uri": "https://localhost:8080/"
        },
        "outputId": "604773d4-e037-4a24-9dc8-cca3b38bb508"
      },
      "source": [
        "validation_generator.batch_size=1\n",
        "score = model.evaluate_generator(validation_generator, validation_generator.samples//4)\n",
        "\n",
        "# test_data_gen.reset()\n",
        "print('\\n')\n",
        "print(\"Loss: \", score[0], '\\n',\"Accuracy: \", score[1])"
      ],
      "execution_count": 28,
      "outputs": [
        {
          "output_type": "stream",
          "name": "stderr",
          "text": [
            "/usr/local/lib/python3.7/dist-packages/keras/engine/training.py:2006: UserWarning: `Model.evaluate_generator` is deprecated and will be removed in a future version. Please use `Model.evaluate`, which supports generators.\n",
            "  warnings.warn('`Model.evaluate_generator` is deprecated and '\n"
          ]
        },
        {
          "output_type": "stream",
          "name": "stdout",
          "text": [
            "\n",
            "\n",
            "Loss:  0.6790211200714111 \n",
            " Accuracy:  0.7718120813369751\n"
          ]
        }
      ]
    },
    {
      "cell_type": "code",
      "metadata": {
        "id": "GMBGI39h1gdN",
        "colab": {
          "base_uri": "https://localhost:8080/"
        },
        "outputId": "6d9bcca4-3c45-40a8-ea74-5ebf85da0a00"
      },
      "source": [
        "scores=model.predict(validation_generator)\n",
        "print(\"Loss: \", score[0], \"Accuracy: \", score[1])\n",
        "\n",
        "predicted_class_indices=np.argmax(scores,axis=1)\n",
        "print(predicted_class_indices)\n"
      ],
      "execution_count": 29,
      "outputs": [
        {
          "output_type": "stream",
          "name": "stdout",
          "text": [
            "Loss:  0.6790211200714111 Accuracy:  0.7718120813369751\n",
            "[0 1 1 0 0 0 2 0 0 2 1 2 0 0 0 0 2 2 2 0 2 0 0 2 2 2 0 0 1 2 1 0 1 1 0 0 1\n",
            " 1 1 0 2 2 2 1 0 0 1 1 2 1 0 0 0 0 0 0 0 1 2 1 2 2 0 2 0 1 2 0 1 0 0 2 0 0\n",
            " 0 2 1 0 1 0 0 0 1 2 0 0 2 1 1 1 2 0 2 1 1 0 2 1 1 2 1 2 0 0 0 2 2 0 1 2 1\n",
            " 0 1 0 0 2 1 2 0 2 1 0 2 0 0 0 0 0 0 1 2 0 2 1 2 2 2 1 2 0 0 2 2 2 2 0 1 0\n",
            " 1 2 1 2 0 2 2 0 1 0 1 0 0 0 1 0 2 2 1 2 1 1 0 2 2 2 2 2 1 0 1 0 1 1 0 0 1\n",
            " 2 0 0 2 1 2 0 1 2 2 1 2 0 0 2 1 1 2 0 2 0 0 1 0 1 0 2 0 0 1 2 1 2 0 1 0 2\n",
            " 2 2 2 1 0 0 2 0 0 0 2 1 2 0 0 2 2 1 1 0 0 0 2 2 1 0 1 0 1 1 1 2 0 2 1 0 0\n",
            " 2 1 0 2 2 2 1 2 2 1 0 2 2 2 1 0 1 1 0 2 0 2 1 2 0 2 2 2 1 2 1 2 0 1 2 1 0\n",
            " 1 0 2 0 0 1 0 1 2 2 2 2 2 1 2 1 0 2 1 0 2 2 2 1 0 2 0 2 1 0 0 0 1 0 2 0 1\n",
            " 0 0 1 1 2 2 1 0 2 1 1 1 1 2 2 0 2 1 0 0 1 0 2 0 0 0 0 1 1 0 1 0 0 2 1 0 0\n",
            " 2 1 0 2 1 1 2 1 2 2 0 1 0 2 1 1 0 0 2 2 1 1 2 2 1 2 1 0 1 2 2 1 1 2 2 2 1\n",
            " 1 1 2 0 2 2 1 2 2 2 1 1 0 0 2 0 0 0 2 0 2 1 1 1 1 1 2 2 0 2 2 1 0 0 2 2 1\n",
            " 1 2 0 0 1 0 0 1 0 0 2 2 1 0 2 0 2 2 0 0 0 1 0 1 1 1 1 0 1 2 0 1 2 2 2 1 1\n",
            " 0 1 2 2 0 1 1 1 1 2 2 2 1 1 2 2 0 1 0 2 2 0 0 1 0 2 2 2 1 2 0 2 1 0 2 1 1\n",
            " 0 0 0 2 0 2 0 0 0 2 0 1 1 1 0 0 0 1 0 2 0 2 0 1 2 1 1 2 2 1 0 2 0 0 1 2 1\n",
            " 0 1 0 0 2 2 0 2 1 1 1 0 0 1 2 0 2 1 0 2 2 0 1 2 2 0 1 2 1 0 1 0 1 0 0 0 1\n",
            " 1 1 2 1 1 0 2]\n"
          ]
        }
      ]
    },
    {
      "cell_type": "code",
      "metadata": {
        "id": "8m3krr9F12kD",
        "colab": {
          "base_uri": "https://localhost:8080/"
        },
        "outputId": "db89ed5a-d329-4f4a-dd5e-b0008aa9a67a"
      },
      "source": [
        "labels = (validation_generator.class_indices)\n",
        "labelss = dict((v,k) for k,v in labels.items())\n",
        "predictions = [labelss[k] for k in predicted_class_indices]\n",
        "\n",
        "filenames=validation_generator.filenames\n",
        "results=pd.DataFrame({\"Filename\":filenames,\n",
        "                      \"Predictions\":predictions})\n",
        "\n",
        "print(results)"
      ],
      "execution_count": 30,
      "outputs": [
        {
          "output_type": "stream",
          "name": "stdout",
          "text": [
            "                      Filename Predictions\n",
            "0                army/1003.png        army\n",
            "1                 army/101.png         men\n",
            "2                army/1024.png         men\n",
            "3                army/1043.png        army\n",
            "4                army/1046.png        army\n",
            "..                         ...         ...\n",
            "594    tanks/zulfiqar_1_l3.jpg       tanks\n",
            "595    tanks/zulfiqar_1_l4.jpg         men\n",
            "596    tanks/zulfiqar_1_l7.jpg         men\n",
            "597    tanks/zulfiqar_2_l1.jpg        army\n",
            "598  tanks/zulfiqar_3_main.jpg       tanks\n",
            "\n",
            "[599 rows x 2 columns]\n"
          ]
        }
      ]
    },
    {
      "cell_type": "code",
      "metadata": {
        "id": "WZPiLOisplpO"
      },
      "source": [
        "results.to_csv('results.csv')"
      ],
      "execution_count": null,
      "outputs": []
    },
    {
      "cell_type": "code",
      "metadata": {
        "id": "6N42ExHJzjP5"
      },
      "source": [
        "files.download(\"/content/results.csv\")"
      ],
      "execution_count": null,
      "outputs": []
    },
    {
      "cell_type": "code",
      "metadata": {
        "id": "IVcZMtKcECt9"
      },
      "source": [
        "import os\n",
        "\n",
        "res_dir = '/content/results/'\n",
        "os.mkdir(res_dir)\n",
        "\n",
        "#create two folders (train and validation)\n",
        "army_dir = os.path.join(res_dir, 'army')\n",
        "os.mkdir(army_dir)\n",
        "\n",
        "men_dir = os.path.join(res_dir, 'men')\n",
        "os.mkdir(men_dir)\n",
        "\n",
        "tanks_dir = os.path.join(res_dir, 'tanks')\n",
        "os.mkdir(tanks_dir)\n",
        "\n",
        "#Under army folder create five folders \n",
        "\n",
        "army_cloud_dir = os.path.join(army_dir, 'army')\n",
        "os.mkdir(army_cloud_dir)\n",
        "\n",
        "army_foggy_dir = os.path.join(army_dir, 'men')\n",
        "os.mkdir(army_foggy_dir)\n",
        "\n",
        "army_rainy_dir = os.path.join(army_dir, 'tanks')\n",
        "os.mkdir(army_rainy_dir)\n",
        "\n",
        "#Under men folder create five folders \n",
        "\n",
        "men_cloud_dir = os.path.join(men_dir, 'army')\n",
        "os.mkdir(men_cloud_dir)\n",
        "\n",
        "men_foggy_dir = os.path.join(men_dir, 'men')\n",
        "os.mkdir(men_foggy_dir)\n",
        "\n",
        "men_rainy_dir = os.path.join(men_dir, 'tanks')\n",
        "os.mkdir(men_rainy_dir)\n",
        "\n",
        "#Under tanks folder create five folders \n",
        "\n",
        "tanks_cloud_dir = os.path.join(tanks_dir, 'army')\n",
        "os.mkdir(tanks_cloud_dir)\n",
        "\n",
        "tanks_foggy_dir = os.path.join(tanks_dir, 'men')\n",
        "os.mkdir(tanks_foggy_dir)\n",
        "\n",
        "tanks_rainy_dir = os.path.join(tanks_dir, 'tanks')\n",
        "os.mkdir(tanks_rainy_dir)"
      ],
      "execution_count": 12,
      "outputs": []
    },
    {
      "cell_type": "code",
      "metadata": {
        "colab": {
          "base_uri": "https://localhost:8080/",
          "height": 204
        },
        "id": "M9T6VQVkq2Ld",
        "outputId": "67e983b4-8799-40b5-c171-4ec033d09f9e"
      },
      "source": [
        "import pandas as pd\n",
        "\n",
        "final = pd.read_csv('results.csv')\n",
        "final.head()"
      ],
      "execution_count": 13,
      "outputs": [
        {
          "output_type": "execute_result",
          "data": {
            "text/html": [
              "<div>\n",
              "<style scoped>\n",
              "    .dataframe tbody tr th:only-of-type {\n",
              "        vertical-align: middle;\n",
              "    }\n",
              "\n",
              "    .dataframe tbody tr th {\n",
              "        vertical-align: top;\n",
              "    }\n",
              "\n",
              "    .dataframe thead th {\n",
              "        text-align: right;\n",
              "    }\n",
              "</style>\n",
              "<table border=\"1\" class=\"dataframe\">\n",
              "  <thead>\n",
              "    <tr style=\"text-align: right;\">\n",
              "      <th></th>\n",
              "      <th>Unnamed: 0</th>\n",
              "      <th>Filename</th>\n",
              "      <th>Predictions</th>\n",
              "    </tr>\n",
              "  </thead>\n",
              "  <tbody>\n",
              "    <tr>\n",
              "      <th>0</th>\n",
              "      <td>0</td>\n",
              "      <td>army/1003.png</td>\n",
              "      <td>army</td>\n",
              "    </tr>\n",
              "    <tr>\n",
              "      <th>1</th>\n",
              "      <td>1</td>\n",
              "      <td>army/101.png</td>\n",
              "      <td>men</td>\n",
              "    </tr>\n",
              "    <tr>\n",
              "      <th>2</th>\n",
              "      <td>2</td>\n",
              "      <td>army/1024.png</td>\n",
              "      <td>men</td>\n",
              "    </tr>\n",
              "    <tr>\n",
              "      <th>3</th>\n",
              "      <td>3</td>\n",
              "      <td>army/1043.png</td>\n",
              "      <td>army</td>\n",
              "    </tr>\n",
              "    <tr>\n",
              "      <th>4</th>\n",
              "      <td>4</td>\n",
              "      <td>army/1046.png</td>\n",
              "      <td>army</td>\n",
              "    </tr>\n",
              "  </tbody>\n",
              "</table>\n",
              "</div>"
            ],
            "text/plain": [
              "   Unnamed: 0       Filename Predictions\n",
              "0           0  army/1003.png        army\n",
              "1           1   army/101.png         men\n",
              "2           2  army/1024.png         men\n",
              "3           3  army/1043.png        army\n",
              "4           4  army/1046.png        army"
            ]
          },
          "metadata": {},
          "execution_count": 13
        }
      ]
    },
    {
      "cell_type": "code",
      "metadata": {
        "id": "AK_ZZDpvwHfJ"
      },
      "source": [
        "for num in range(599):\n",
        "  img_path = '/content/combined/' + final.Filename[num]\n",
        "  des = '/content/results/' + final.Predictions[num] + '/' + final.Filename[num]\n",
        "  copyfile(img_path, des)"
      ],
      "execution_count": 14,
      "outputs": []
    },
    {
      "cell_type": "code",
      "metadata": {
        "id": "RDx2JUDIO6hf"
      },
      "source": [
        "!zip -r /content/result.zip /content/results"
      ],
      "execution_count": null,
      "outputs": []
    },
    {
      "cell_type": "code",
      "metadata": {
        "colab": {
          "base_uri": "https://localhost:8080/",
          "height": 17
        },
        "id": "uTM1t_SoO-Fl",
        "outputId": "04f67ca0-b35c-458b-8934-d0c1ef20be0e"
      },
      "source": [
        "from google.colab import files\n",
        "files.download(\"/content/result.zip\")"
      ],
      "execution_count": 16,
      "outputs": [
        {
          "output_type": "display_data",
          "data": {
            "application/javascript": [
              "\n",
              "    async function download(id, filename, size) {\n",
              "      if (!google.colab.kernel.accessAllowed) {\n",
              "        return;\n",
              "      }\n",
              "      const div = document.createElement('div');\n",
              "      const label = document.createElement('label');\n",
              "      label.textContent = `Downloading \"${filename}\": `;\n",
              "      div.appendChild(label);\n",
              "      const progress = document.createElement('progress');\n",
              "      progress.max = size;\n",
              "      div.appendChild(progress);\n",
              "      document.body.appendChild(div);\n",
              "\n",
              "      const buffers = [];\n",
              "      let downloaded = 0;\n",
              "\n",
              "      const channel = await google.colab.kernel.comms.open(id);\n",
              "      // Send a message to notify the kernel that we're ready.\n",
              "      channel.send({})\n",
              "\n",
              "      for await (const message of channel.messages) {\n",
              "        // Send a message to notify the kernel that we're ready.\n",
              "        channel.send({})\n",
              "        if (message.buffers) {\n",
              "          for (const buffer of message.buffers) {\n",
              "            buffers.push(buffer);\n",
              "            downloaded += buffer.byteLength;\n",
              "            progress.value = downloaded;\n",
              "          }\n",
              "        }\n",
              "      }\n",
              "      const blob = new Blob(buffers, {type: 'application/binary'});\n",
              "      const a = document.createElement('a');\n",
              "      a.href = window.URL.createObjectURL(blob);\n",
              "      a.download = filename;\n",
              "      div.appendChild(a);\n",
              "      a.click();\n",
              "      div.remove();\n",
              "    }\n",
              "  "
            ],
            "text/plain": [
              "<IPython.core.display.Javascript object>"
            ]
          },
          "metadata": {}
        },
        {
          "output_type": "display_data",
          "data": {
            "application/javascript": [
              "download(\"download_d5a78197-dcb8-40d3-b6ae-bdf16b87ebe6\", \"result.zip\", 129980641)"
            ],
            "text/plain": [
              "<IPython.core.display.Javascript object>"
            ]
          },
          "metadata": {}
        }
      ]
    }
  ]
}
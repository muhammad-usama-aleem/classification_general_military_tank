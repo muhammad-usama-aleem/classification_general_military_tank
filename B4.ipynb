{
  "nbformat": 4,
  "nbformat_minor": 0,
  "metadata": {
    "colab": {
      "name": "experiment.ipynb",
      "provenance": [],
      "collapsed_sections": [],
      "include_colab_link": true
    },
    "kernelspec": {
      "display_name": "Python 3",
      "name": "python3"
    },
    "language_info": {
      "name": "python"
    },
    "accelerator": "GPU"
  },
  "cells": [
    {
      "cell_type": "markdown",
      "metadata": {
        "id": "view-in-github",
        "colab_type": "text"
      },
      "source": [
        "<a href=\"https://colab.research.google.com/github/muhammad-usama-aleem/classification_general_military_tank/blob/main/B4.ipynb\" target=\"_parent\"><img src=\"https://colab.research.google.com/assets/colab-badge.svg\" alt=\"Open In Colab\"/></a>"
      ]
    },
    {
      "cell_type": "code",
      "metadata": {
        "id": "tAb77yZ9fzMG",
        "colab": {
          "base_uri": "https://localhost:8080/"
        },
        "outputId": "8e4f8b16-abd7-4823-b12e-b73211ba55e8"
      },
      "source": [
        "from google.colab import drive\n",
        "drive.mount(\"/content/gdrive\")"
      ],
      "execution_count": null,
      "outputs": [
        {
          "output_type": "stream",
          "name": "stdout",
          "text": [
            "Mounted at /content/gdrive\n"
          ]
        }
      ]
    },
    {
      "cell_type": "code",
      "metadata": {
        "id": "pafL7Li0jyXW"
      },
      "source": [
        "!pip install unrar\n",
        "!unrar x /content/gdrive/MyDrive/dataset.rar"
      ],
      "execution_count": null,
      "outputs": []
    },
    {
      "cell_type": "code",
      "metadata": {
        "id": "h3MD4fhgcKdv"
      },
      "source": [
        "import os\n",
        "\n",
        "base_dir = '/content/combined/'\n",
        "os.mkdir(base_dir)\n",
        "\n",
        "!mv /content/tanks /content/combined\n",
        "!mv /content/men /content/combined\n",
        "!mv /content/army /content/combined"
      ],
      "execution_count": null,
      "outputs": []
    },
    {
      "cell_type": "code",
      "metadata": {
        "id": "KDYqXuzyqml2"
      },
      "source": [
        "# removing gif file\n",
        "\n",
        "import os\n",
        "\n",
        "# !rm -rf /content/main\n",
        "img = os.listdir('/content/combined/men')\n",
        "for i,v in enumerate(img):\n",
        "  if v[-3:] == 'gif':\n",
        "    # !rm -rf /content/combined/men/img[i]\n",
        "    os.remove(\"/content/combined/men/{}\".format(img[i]))"
      ],
      "execution_count": null,
      "outputs": []
    },
    {
      "cell_type": "code",
      "metadata": {
        "id": "9jr9Sy9rrABN"
      },
      "source": [
        "import os\n",
        "for File in os.listdir(\"/content/combined/men\"):\n",
        "    if File.endswith(\".gif\"):\n",
        "        print(\"true\")"
      ],
      "execution_count": null,
      "outputs": []
    },
    {
      "cell_type": "code",
      "metadata": {
        "id": "ZIIt1A-bijXe"
      },
      "source": [
        "import os\n",
        "\n",
        "main_dir = '/content/main/'\n",
        "os.mkdir(main_dir)"
      ],
      "execution_count": null,
      "outputs": []
    },
    {
      "cell_type": "code",
      "metadata": {
        "id": "DP5giKkdlxJm"
      },
      "source": [
        "# !rm -rf /content/combined"
      ],
      "execution_count": null,
      "outputs": []
    },
    {
      "cell_type": "code",
      "metadata": {
        "id": "TgaC0skAi4OE"
      },
      "source": [
        "#create two folders (train and validation)\n",
        "train_dir = os.path.join(main_dir, 'train')\n",
        "os.mkdir(train_dir)\n",
        "\n",
        "test_dir = os.path.join(main_dir, 'test')\n",
        "os.mkdir(test_dir)\n",
        "\n",
        "#Under train folder create five folders \n",
        "\n",
        "train_cloud_dir = os.path.join(train_dir, 'army')\n",
        "os.mkdir(train_cloud_dir)\n",
        "\n",
        "train_foggy_dir = os.path.join(train_dir, 'men')\n",
        "os.mkdir(train_foggy_dir)\n",
        "\n",
        "train_rainy_dir = os.path.join(train_dir, 'tanks')\n",
        "os.mkdir(train_rainy_dir)\n",
        "\n",
        "#Under validation folder create five folders \n",
        "\n",
        "validation_cloud_dir = os.path.join(test_dir, 'army')\n",
        "os.mkdir(validation_cloud_dir)\n",
        "\n",
        "validation_foggy_dir = os.path.join(test_dir, 'men')\n",
        "os.mkdir(validation_foggy_dir)\n",
        "\n",
        "validation_rainy_dir = os.path.join(test_dir, 'tanks')\n",
        "os.mkdir(validation_rainy_dir)"
      ],
      "execution_count": null,
      "outputs": []
    },
    {
      "cell_type": "code",
      "metadata": {
        "id": "tVJYRP66kMrZ"
      },
      "source": [
        "army_SOURCE_DIR = '/content/combined/army/'\n",
        "TRAINING_army_DIR = '/content/main/train/army/'\n",
        "test_army_DIR = '/content/main/test/army/'\n",
        "\n",
        "men_SOURCE_DIR = '/content/combined/men/'\n",
        "TRAINING_men_DIR = '/content/main/train/men/'\n",
        "test_men_DIR = '/content/main/test/men/'\n",
        "\n",
        "tanks_SOURCE_DIR = '/content/combined/tanks/'\n",
        "TRAINING_tanks_DIR = '/content/main/train/tanks/'\n",
        "test_tanks_DIR = '/content/main/test/tanks/'"
      ],
      "execution_count": null,
      "outputs": []
    },
    {
      "cell_type": "code",
      "metadata": {
        "id": "GwF8LBrtk9Gd"
      },
      "source": [
        "def split_data(SOURCE, TRAINING, VALIDATION, SPLIT_SIZE):\n",
        "    files = []\n",
        "    for filename in os.listdir(SOURCE):\n",
        "        file = SOURCE + filename\n",
        "        if os.path.getsize(file) > 0:\n",
        "            files.append(filename)\n",
        "        else:\n",
        "            print(filename + \" is zero length, so ignoring.\")\n",
        "\n",
        "    training_length = int(len(files) * SPLIT_SIZE)\n",
        "    print('training_length', training_length)\n",
        "    valid_length = int(len(files) - training_length)\n",
        "    print('test_length', valid_length)\n",
        "    shuffled_set = random.sample(files, len(files))\n",
        "    training_set = shuffled_set[0:training_length]\n",
        "    valid_set = shuffled_set[training_length:]\n",
        "\n",
        "    for filename in training_set:\n",
        "        this_file = SOURCE + filename\n",
        "        destination = TRAINING + filename\n",
        "        copyfile(this_file, destination)\n",
        "\n",
        "    for filename in valid_set:\n",
        "        this_file = SOURCE + filename\n",
        "        destination = VALIDATION + filename\n",
        "        copyfile(this_file, destination)"
      ],
      "execution_count": null,
      "outputs": []
    },
    {
      "cell_type": "code",
      "metadata": {
        "id": "3zo36gvRlDMW",
        "colab": {
          "base_uri": "https://localhost:8080/"
        },
        "outputId": "09b2ea49-5b7b-4caa-9cc7-d090d290bb14"
      },
      "source": [
        "import os\n",
        "import random\n",
        "from shutil import copyfile\n",
        "\n",
        "split_size = .80\n",
        "\n",
        "split_data(army_SOURCE_DIR, TRAINING_army_DIR, test_army_DIR, split_size)\n",
        "split_data(men_SOURCE_DIR, TRAINING_men_DIR, test_men_DIR, split_size)\n",
        "split_data(tanks_SOURCE_DIR, TRAINING_tanks_DIR, test_tanks_DIR, split_size)"
      ],
      "execution_count": null,
      "outputs": [
        {
          "output_type": "stream",
          "name": "stdout",
          "text": [
            "training_length 1200\n",
            "test_length 300\n",
            "training_length 1127\n",
            "test_length 282\n",
            "training_length 863\n",
            "test_length 216\n"
          ]
        }
      ]
    },
    {
      "cell_type": "code",
      "metadata": {
        "id": "y--NrK0HlDI7"
      },
      "source": [
        ""
      ],
      "execution_count": null,
      "outputs": []
    },
    {
      "cell_type": "markdown",
      "metadata": {
        "id": "F1_yQMHQm9jt"
      },
      "source": [
        "# train data"
      ]
    },
    {
      "cell_type": "code",
      "metadata": {
        "id": "WCWj_WqcuRvN",
        "colab": {
          "base_uri": "https://localhost:8080/"
        },
        "outputId": "5d7653d1-9810-4a26-9e6e-ea0cbadd0772"
      },
      "source": [
        "import numpy as np\n",
        "import tensorflow as tf\n",
        "\n",
        "import numpy as np \n",
        "import pandas as pd \n",
        "import matplotlib.pyplot as plt\n",
        "import os\n",
        "\n",
        "dataset_path = os.listdir('/content/main/train')\n",
        "\n",
        "print (dataset_path)  #what kinds of classes are in this dataset\n",
        "\n",
        "print(\"Types of classes labels found: \", len(dataset_path))"
      ],
      "execution_count": null,
      "outputs": [
        {
          "output_type": "stream",
          "name": "stdout",
          "text": [
            "['men', 'tanks', 'army']\n",
            "Types of classes labels found:  3\n"
          ]
        }
      ]
    },
    {
      "cell_type": "code",
      "metadata": {
        "id": "qdMC776Pq9Em"
      },
      "source": [
        "train_class_labels = []\n",
        "\n",
        "for item in dataset_path:\n",
        " # Get all the file names\n",
        " all_classes = os.listdir('/content/main/train' + '/' +item)\n",
        "#  print(all_classes)\n",
        "\n",
        " # Add them to the list\n",
        " for room in all_classes:\n",
        "    train_class_labels.append((item, str('dataset_path' + '/' +item) + '/' + room))\n",
        "    # print(dataset_path, item, room)"
      ],
      "execution_count": null,
      "outputs": []
    },
    {
      "cell_type": "code",
      "metadata": {
        "id": "ltfTGy_3ubg2",
        "colab": {
          "base_uri": "https://localhost:8080/"
        },
        "outputId": "796a5e22-4667-4d4f-8089-6378403193d0"
      },
      "source": [
        "# Build a dataframe        \n",
        "df = pd.DataFrame(data=train_class_labels, columns=['Labels', 'image'])\n",
        "print(df.head())\n",
        "print(df.tail())"
      ],
      "execution_count": null,
      "outputs": [
        {
          "output_type": "stream",
          "name": "stdout",
          "text": [
            "  Labels                          image\n",
            "0    men  dataset_path/men/00001961.jpg\n",
            "1    men  dataset_path/men/00000824.jpg\n",
            "2    men  dataset_path/men/00000178.jpg\n",
            "3    men  dataset_path/men/00000815.JPG\n",
            "4    men  dataset_path/men/00000933.jpg\n",
            "     Labels                       image\n",
            "3185   army  dataset_path/army/1943.png\n",
            "3186   army   dataset_path/army/907.png\n",
            "3187   army  dataset_path/army/1583.png\n",
            "3188   army   dataset_path/army/325.png\n",
            "3189   army  dataset_path/army/1694.png\n"
          ]
        }
      ]
    },
    {
      "cell_type": "code",
      "metadata": {
        "id": "qoW-d960vdZx",
        "colab": {
          "base_uri": "https://localhost:8080/"
        },
        "outputId": "8ef107e3-7141-429f-979a-669267f1e055"
      },
      "source": [
        "# Let's check how many samples for each category are present\n",
        "print(\"Total number of images in the dataset: \", len(df))\n",
        "\n",
        "label_count = df['Labels'].value_counts()\n",
        "print(label_count)"
      ],
      "execution_count": null,
      "outputs": [
        {
          "output_type": "stream",
          "name": "stdout",
          "text": [
            "Total number of images in the dataset:  3190\n",
            "army     1200\n",
            "men      1127\n",
            "tanks     863\n",
            "Name: Labels, dtype: int64\n"
          ]
        }
      ]
    },
    {
      "cell_type": "code",
      "metadata": {
        "id": "OFbkS9RPvj49",
        "colab": {
          "base_uri": "https://localhost:8080/"
        },
        "outputId": "73de97b6-6616-4dea-b18b-ef76fea3b9c5"
      },
      "source": [
        "import cv2\n",
        "path = '/content/main/train/'\n",
        "dataset_path = os.listdir('/content/main/train')\n",
        "\n",
        "im_size = 380\n",
        "\n",
        "train_images = []\n",
        "train_labels = []\n",
        "\n",
        "for i in dataset_path:\n",
        "    data_path = path + str(i)\n",
        "    filenames = [i for i in os.listdir(data_path) ]\n",
        "    print(data_path)\n",
        "    for f in filenames:\n",
        "        img = cv2.imread(data_path + '/' + f)\n",
        "        img = cv2.resize(img, (im_size, im_size))\n",
        "        train_images.append(img)\n",
        "        train_labels.append(i)"
      ],
      "execution_count": null,
      "outputs": [
        {
          "output_type": "stream",
          "name": "stdout",
          "text": [
            "/content/main/train/men\n",
            "/content/main/train/tanks\n",
            "/content/main/train/army\n"
          ]
        }
      ]
    },
    {
      "cell_type": "code",
      "metadata": {
        "id": "wkOcLfogvn4O",
        "colab": {
          "base_uri": "https://localhost:8080/"
        },
        "outputId": "cccd81ca-d44f-439f-cfb7-55983b4b7840"
      },
      "source": [
        "train_images = np.array(train_images)\n",
        "print(train_images.shape)\n",
        "train_images = train_images.astype('float32') / 255.0\n",
        "# train_images = preprocess_input(train_images)\n",
        "print(train_images.shape)"
      ],
      "execution_count": null,
      "outputs": [
        {
          "output_type": "stream",
          "name": "stdout",
          "text": [
            "(3190, 380, 380, 3)\n",
            "(3190, 380, 380, 3)\n"
          ]
        }
      ]
    },
    {
      "cell_type": "code",
      "metadata": {
        "id": "rQUC9dM_vsI4",
        "colab": {
          "base_uri": "https://localhost:8080/"
        },
        "outputId": "9ceca49d-fd09-46c4-c3c3-ac060e6d7a6e"
      },
      "source": [
        "from sklearn.preprocessing import LabelEncoder , OneHotEncoder\n",
        "y=df['Labels'].values\n",
        "print(y)\n",
        "print(len(y))\n",
        "print(list(set(y)))\n",
        "y_labelencoder = LabelEncoder ()\n",
        "y = y_labelencoder.fit_transform (y)\n",
        "print(y)\n",
        "print(list(set(y)))"
      ],
      "execution_count": null,
      "outputs": [
        {
          "output_type": "stream",
          "name": "stdout",
          "text": [
            "['men' 'men' 'men' ... 'army' 'army' 'army']\n",
            "3190\n",
            "['men', 'army', 'tanks']\n",
            "[1 1 1 ... 0 0 0]\n",
            "[0, 1, 2]\n"
          ]
        }
      ]
    },
    {
      "cell_type": "code",
      "metadata": {
        "id": "wgPoPUdkwDiz",
        "colab": {
          "base_uri": "https://localhost:8080/"
        },
        "outputId": "d087fda1-320d-4b64-ed39-1f5d88be8e27"
      },
      "source": [
        "y=y.reshape(-1,1)\n",
        "\n",
        "from sklearn.compose import ColumnTransformer\n",
        "ct = ColumnTransformer([('my_ohe', OneHotEncoder(), [0])], remainder='passthrough')\n",
        "Y = ct.fit_transform(y) #.toarray()\n",
        "print(Y[:5])\n",
        "print(Y[:-5])"
      ],
      "execution_count": null,
      "outputs": [
        {
          "output_type": "stream",
          "name": "stdout",
          "text": [
            "[[0. 1. 0.]\n",
            " [0. 1. 0.]\n",
            " [0. 1. 0.]\n",
            " [0. 1. 0.]\n",
            " [0. 1. 0.]]\n",
            "[[0. 1. 0.]\n",
            " [0. 1. 0.]\n",
            " [0. 1. 0.]\n",
            " ...\n",
            " [1. 0. 0.]\n",
            " [1. 0. 0.]\n",
            " [1. 0. 0.]]\n"
          ]
        }
      ]
    },
    {
      "cell_type": "code",
      "metadata": {
        "id": "kgnPjk2HY30-"
      },
      "source": [
        "height = 380\n",
        "width = 380\n",
        "channels = 3\n",
        "\n",
        "n_classes = 3\n",
        "input_shape = (height, width, channels)\n",
        "\n",
        "epochs = 20\n",
        "batch_size = 12"
      ],
      "execution_count": null,
      "outputs": []
    },
    {
      "cell_type": "code",
      "metadata": {
        "id": "PO0WAucm9D26"
      },
      "source": [
        "from tensorflow.keras.applications import EfficientNetB4 as Net\n",
        "from tensorflow.keras.applications.imagenet_utils import preprocess_input\n",
        "from tensorflow.keras import layers\n",
        "\n",
        "\n",
        "NUM_CLASSES = 3\n",
        "IMG_SIZE = 380\n",
        "size = (IMG_SIZE, IMG_SIZE)\n",
        "\n",
        "\n",
        "inputs = layers.Input(shape=(IMG_SIZE, IMG_SIZE, 3))\n",
        "\n",
        "# loading pretrained conv base model\n",
        "outputs = Net(weights=None, include_top=True, classes=NUM_CLASSES)(inputs)"
      ],
      "execution_count": null,
      "outputs": []
    },
    {
      "cell_type": "code",
      "metadata": {
        "id": "enXYSYRk9VDh",
        "colab": {
          "base_uri": "https://localhost:8080/"
        },
        "outputId": "95b404a9-9159-4d2f-bb96-5045cb178b60"
      },
      "source": [
        "from tensorflow.keras.preprocessing.image import ImageDataGenerator\n",
        "from tensorflow.keras import optimizers\n",
        "\n",
        "\n",
        "train_datagen = ImageDataGenerator(\n",
        "    rescale=1.0 / 255,\n",
        "    rotation_range=40,\n",
        "    width_shift_range=0.2,\n",
        "    height_shift_range=0.2,\n",
        "    shear_range=0.2,\n",
        "    zoom_range=0.2,\n",
        "    horizontal_flip=True,\n",
        "    fill_mode=\"nearest\",\n",
        ")\n",
        "\n",
        "train_dir = '/content/main/train'\n",
        "# Note that the validation data should not be augmented!\n",
        "test_datagen = ImageDataGenerator(rescale=1.0 / 255)\n",
        "\n",
        "train_generator = train_datagen.flow_from_directory(\n",
        "    # This is the target directory\n",
        "    train_dir,\n",
        "    # All images will be resized to target height and width.\n",
        "    target_size=(height, width),\n",
        "    batch_size=batch_size,\n",
        "    # Since we use categorical_crossentropy loss, we need categorical labels\n",
        "    class_mode=\"categorical\",\n",
        ")\n",
        "\n",
        "validation_dir = '/content/main/test'\n",
        "\n",
        "validation_generator = test_datagen.flow_from_directory(\n",
        "    validation_dir,\n",
        "    target_size=(height, width),\n",
        "    batch_size=batch_size,\n",
        "    class_mode=\"categorical\",\n",
        ")\n",
        "\n"
      ],
      "execution_count": null,
      "outputs": [
        {
          "output_type": "stream",
          "name": "stdout",
          "text": [
            "Found 3190 images belonging to 3 classes.\n",
            "Found 798 images belonging to 3 classes.\n"
          ]
        }
      ]
    },
    {
      "cell_type": "code",
      "metadata": {
        "id": "XZ30t9KNefbg",
        "colab": {
          "base_uri": "https://localhost:8080/"
        },
        "outputId": "12818f0d-51b2-4150-aaca-0f6a84338e8c"
      },
      "source": [
        "model = tf.keras.Model(inputs, outputs)\n",
        "\n",
        "model.compile(\n",
        "    loss=\"categorical_crossentropy\",\n",
        "    optimizer=optimizers.RMSprop(learning_rate=2e-5),\n",
        "    metrics=[\"accuracy\"],\n",
        ")\n",
        "model.summary()"
      ],
      "execution_count": null,
      "outputs": [
        {
          "output_type": "stream",
          "name": "stdout",
          "text": [
            "Model: \"model_2\"\n",
            "_________________________________________________________________\n",
            "Layer (type)                 Output Shape              Param #   \n",
            "=================================================================\n",
            "input_5 (InputLayer)         [(None, 380, 380, 3)]     0         \n",
            "_________________________________________________________________\n",
            "efficientnetb4 (Functional)  (None, 3)                 17679202  \n",
            "=================================================================\n",
            "Total params: 17,679,202\n",
            "Trainable params: 17,553,995\n",
            "Non-trainable params: 125,207\n",
            "_________________________________________________________________\n"
          ]
        }
      ]
    },
    {
      "cell_type": "code",
      "metadata": {
        "id": "mVSQip5D9VAI",
        "colab": {
          "base_uri": "https://localhost:8080/"
        },
        "outputId": "b59579b1-5b13-491d-87b6-bcd7fb46fd95"
      },
      "source": [
        "history = model.fit(\n",
        "    train_generator,\n",
        "    steps_per_epoch = train_generator.samples // batch_size,\n",
        "    epochs=epochs,\n",
        "    validation_data=validation_generator,\n",
        "    validation_steps=validation_generator.samples // batch_size,\n",
        "    verbose=1,\n",
        "    use_multiprocessing=True,\n",
        "    workers=4,\n",
        ")"
      ],
      "execution_count": null,
      "outputs": [
        {
          "output_type": "stream",
          "name": "stdout",
          "text": [
            "Epoch 1/20\n",
            "265/265 [==============================] - 537s 2s/step - loss: 2.7420 - accuracy: 0.3795 - val_loss: 1.6245 - val_accuracy: 0.3535\n",
            "Epoch 2/20\n",
            "265/265 [==============================] - 496s 2s/step - loss: 2.4399 - accuracy: 0.3842 - val_loss: 1.2436 - val_accuracy: 0.3535\n",
            "Epoch 3/20\n",
            "265/265 [==============================] - 495s 2s/step - loss: 2.3365 - accuracy: 0.3845 - val_loss: 1.1150 - val_accuracy: 0.4318\n",
            "Epoch 4/20\n",
            "265/265 [==============================] - 496s 2s/step - loss: 2.2998 - accuracy: 0.3962 - val_loss: 4.5101 - val_accuracy: 0.4533\n",
            "Epoch 5/20\n",
            "265/265 [==============================] - 496s 2s/step - loss: 2.0989 - accuracy: 0.4059 - val_loss: 7.6864 - val_accuracy: 0.4684\n",
            "Epoch 6/20\n",
            "265/265 [==============================] - 496s 2s/step - loss: 2.0642 - accuracy: 0.4128 - val_loss: 10.5576 - val_accuracy: 0.4975\n",
            "Epoch 7/20\n",
            "265/265 [==============================] - 496s 2s/step - loss: 2.2443 - accuracy: 0.3921 - val_loss: 5.9838 - val_accuracy: 0.5619\n",
            "Epoch 8/20\n",
            "265/265 [==============================] - 496s 2s/step - loss: 2.0941 - accuracy: 0.4298 - val_loss: 7.9934 - val_accuracy: 0.5240\n",
            "Epoch 9/20\n",
            "265/265 [==============================] - 513s 2s/step - loss: 2.0176 - accuracy: 0.4069 - val_loss: 5.9548 - val_accuracy: 0.5808\n",
            "Epoch 10/20\n",
            "265/265 [==============================] - 497s 2s/step - loss: 2.0569 - accuracy: 0.4182 - val_loss: 7.5801 - val_accuracy: 0.5972\n",
            "Epoch 11/20\n",
            "265/265 [==============================] - 496s 2s/step - loss: 2.0725 - accuracy: 0.4286 - val_loss: 18.6804 - val_accuracy: 0.5795\n",
            "Epoch 12/20\n",
            "265/265 [==============================] - 496s 2s/step - loss: 1.9471 - accuracy: 0.4503 - val_loss: 10.4242 - val_accuracy: 0.5227\n",
            "Epoch 13/20\n",
            "265/265 [==============================] - 496s 2s/step - loss: 1.8610 - accuracy: 0.4578 - val_loss: 6.0104 - val_accuracy: 0.6023\n",
            "Epoch 14/20\n",
            "265/265 [==============================] - 496s 2s/step - loss: 1.9150 - accuracy: 0.4506 - val_loss: 4.6810 - val_accuracy: 0.6098\n",
            "Epoch 15/20\n",
            "265/265 [==============================] - 495s 2s/step - loss: 1.9521 - accuracy: 0.4604 - val_loss: 6.5301 - val_accuracy: 0.6098\n",
            "Epoch 16/20\n",
            "265/265 [==============================] - 496s 2s/step - loss: 1.9233 - accuracy: 0.4679 - val_loss: 5.8534 - val_accuracy: 0.6452\n",
            "Epoch 17/20\n",
            "265/265 [==============================] - 496s 2s/step - loss: 1.9195 - accuracy: 0.4663 - val_loss: 7.3989 - val_accuracy: 0.6503\n",
            "Epoch 18/20\n",
            "265/265 [==============================] - 496s 2s/step - loss: 1.8210 - accuracy: 0.4840 - val_loss: 8.0064 - val_accuracy: 0.6376\n",
            "Epoch 19/20\n",
            "265/265 [==============================] - 495s 2s/step - loss: 1.8778 - accuracy: 0.4928 - val_loss: 3.4955 - val_accuracy: 0.6591\n",
            "Epoch 20/20\n",
            "265/265 [==============================] - 496s 2s/step - loss: 1.7239 - accuracy: 0.4858 - val_loss: 5.2731 - val_accuracy: 0.6503\n"
          ]
        }
      ]
    },
    {
      "cell_type": "code",
      "metadata": {
        "id": "FbNnL6CqcS1n"
      },
      "source": [
        "model.save_weights(\"classification_efficientnetb0_weights_B2.h5\")"
      ],
      "execution_count": null,
      "outputs": []
    },
    {
      "cell_type": "code",
      "metadata": {
        "id": "cOUxPqWXzU_Q",
        "colab": {
          "base_uri": "https://localhost:8080/"
        },
        "outputId": "4e1a3f82-81d5-4c5a-a0eb-8ee94653f108"
      },
      "source": [
        "model_json = model.to_json()\n",
        "with open(\"model_B2.json\", \"w\") as json_file:\n",
        "    json_file.write(model_json)"
      ],
      "execution_count": null,
      "outputs": [
        {
          "output_type": "stream",
          "name": "stderr",
          "text": [
            "/usr/local/lib/python3.7/dist-packages/keras/utils/generic_utils.py:497: CustomMaskWarning: Custom mask layers require a config and must override get_config. When loading, the custom mask layer must be passed to the custom_objects argument.\n",
            "  category=CustomMaskWarning)\n"
          ]
        }
      ]
    },
    {
      "cell_type": "code",
      "metadata": {
        "id": "zvg34DNNA-XR",
        "colab": {
          "base_uri": "https://localhost:8080/",
          "height": 51
        },
        "outputId": "c63939f2-db09-4285-c3b8-a81eaee32531"
      },
      "source": [
        "from google.colab import files\n",
        "files.download(\"/content/classification_efficientnetb0_weights_B2.h5\")\n",
        "\n",
        "files.download(\"/content/model_B2.json\")"
      ],
      "execution_count": null,
      "outputs": [
        {
          "output_type": "display_data",
          "data": {
            "application/javascript": [
              "\n",
              "    async function download(id, filename, size) {\n",
              "      if (!google.colab.kernel.accessAllowed) {\n",
              "        return;\n",
              "      }\n",
              "      const div = document.createElement('div');\n",
              "      const label = document.createElement('label');\n",
              "      label.textContent = `Downloading \"${filename}\": `;\n",
              "      div.appendChild(label);\n",
              "      const progress = document.createElement('progress');\n",
              "      progress.max = size;\n",
              "      div.appendChild(progress);\n",
              "      document.body.appendChild(div);\n",
              "\n",
              "      const buffers = [];\n",
              "      let downloaded = 0;\n",
              "\n",
              "      const channel = await google.colab.kernel.comms.open(id);\n",
              "      // Send a message to notify the kernel that we're ready.\n",
              "      channel.send({})\n",
              "\n",
              "      for await (const message of channel.messages) {\n",
              "        // Send a message to notify the kernel that we're ready.\n",
              "        channel.send({})\n",
              "        if (message.buffers) {\n",
              "          for (const buffer of message.buffers) {\n",
              "            buffers.push(buffer);\n",
              "            downloaded += buffer.byteLength;\n",
              "            progress.value = downloaded;\n",
              "          }\n",
              "        }\n",
              "      }\n",
              "      const blob = new Blob(buffers, {type: 'application/binary'});\n",
              "      const a = document.createElement('a');\n",
              "      a.href = window.URL.createObjectURL(blob);\n",
              "      a.download = filename;\n",
              "      div.appendChild(a);\n",
              "      a.click();\n",
              "      div.remove();\n",
              "    }\n",
              "  "
            ],
            "text/plain": [
              "<IPython.core.display.Javascript object>"
            ]
          },
          "metadata": {}
        },
        {
          "output_type": "display_data",
          "data": {
            "application/javascript": [
              "download(\"download_58f0794c-6817-4be5-a74c-15806c68ebd5\", \"classification_efficientnetb0_weights_B2.h5\", 71240904)"
            ],
            "text/plain": [
              "<IPython.core.display.Javascript object>"
            ]
          },
          "metadata": {}
        },
        {
          "output_type": "display_data",
          "data": {
            "application/javascript": [
              "\n",
              "    async function download(id, filename, size) {\n",
              "      if (!google.colab.kernel.accessAllowed) {\n",
              "        return;\n",
              "      }\n",
              "      const div = document.createElement('div');\n",
              "      const label = document.createElement('label');\n",
              "      label.textContent = `Downloading \"${filename}\": `;\n",
              "      div.appendChild(label);\n",
              "      const progress = document.createElement('progress');\n",
              "      progress.max = size;\n",
              "      div.appendChild(progress);\n",
              "      document.body.appendChild(div);\n",
              "\n",
              "      const buffers = [];\n",
              "      let downloaded = 0;\n",
              "\n",
              "      const channel = await google.colab.kernel.comms.open(id);\n",
              "      // Send a message to notify the kernel that we're ready.\n",
              "      channel.send({})\n",
              "\n",
              "      for await (const message of channel.messages) {\n",
              "        // Send a message to notify the kernel that we're ready.\n",
              "        channel.send({})\n",
              "        if (message.buffers) {\n",
              "          for (const buffer of message.buffers) {\n",
              "            buffers.push(buffer);\n",
              "            downloaded += buffer.byteLength;\n",
              "            progress.value = downloaded;\n",
              "          }\n",
              "        }\n",
              "      }\n",
              "      const blob = new Blob(buffers, {type: 'application/binary'});\n",
              "      const a = document.createElement('a');\n",
              "      a.href = window.URL.createObjectURL(blob);\n",
              "      a.download = filename;\n",
              "      div.appendChild(a);\n",
              "      a.click();\n",
              "      div.remove();\n",
              "    }\n",
              "  "
            ],
            "text/plain": [
              "<IPython.core.display.Javascript object>"
            ]
          },
          "metadata": {}
        },
        {
          "output_type": "display_data",
          "data": {
            "application/javascript": [
              "download(\"download_084e8b1a-46ab-47d7-aaa9-44470001523a\", \"model_B2.json\", 229408)"
            ],
            "text/plain": [
              "<IPython.core.display.Javascript object>"
            ]
          },
          "metadata": {}
        }
      ]
    },
    {
      "cell_type": "code",
      "metadata": {
        "id": "iBlmeQ93z5S8"
      },
      "source": [
        "CLASSES = ['army', 'men', 'tanks']"
      ],
      "execution_count": null,
      "outputs": []
    },
    {
      "cell_type": "code",
      "metadata": {
        "id": "1Mxe19xm0dug",
        "colab": {
          "base_uri": "https://localhost:8080/"
        },
        "outputId": "60bf8de7-1469-49f6-883e-6602cc29c270"
      },
      "source": [
        "validation_generator.batch_size=1\n",
        "score = model.evaluate_generator(validation_generator, validation_generator.samples//4)\n",
        "\n",
        "# test_data_gen.reset()\n",
        "print('\\n')\n",
        "print(\"Loss: \", score[0], '\\n',\"Accuracy: \", score[1])"
      ],
      "execution_count": null,
      "outputs": [
        {
          "output_type": "stream",
          "name": "stderr",
          "text": [
            "/usr/local/lib/python3.7/dist-packages/keras/engine/training.py:2006: UserWarning: `Model.evaluate_generator` is deprecated and will be removed in a future version. Please use `Model.evaluate`, which supports generators.\n",
            "  warnings.warn('`Model.evaluate_generator` is deprecated and '\n"
          ]
        },
        {
          "output_type": "stream",
          "name": "stdout",
          "text": [
            "\n",
            "\n",
            "Loss:  5.364274978637695 \n",
            " Accuracy:  0.6030150651931763\n"
          ]
        }
      ]
    },
    {
      "cell_type": "code",
      "metadata": {
        "id": "GMBGI39h1gdN",
        "colab": {
          "base_uri": "https://localhost:8080/"
        },
        "outputId": "fdf56e94-c159-4fdb-d37e-058e1d6c3aa9"
      },
      "source": [
        "scores=model.predict(validation_generator)\n",
        "print(\"Loss: \", score[0], \"Accuracy: \", score[1])\n",
        "\n",
        "predicted_class_indices=np.argmax(scores,axis=1)\n",
        "print(predicted_class_indices)\n"
      ],
      "execution_count": null,
      "outputs": [
        {
          "output_type": "stream",
          "name": "stdout",
          "text": [
            "Loss:  5.364274978637695 Accuracy:  0.6030150651931763\n",
            "[2 2 2 2 1 2 2 2 1 2 2 1 2 1 2 1 2 1 0 1 1 1 2 2 1 2 2 2 1 2 0 0 2 1 2 0 2\n",
            " 2 1 2 2 1 1 1 0 0 1 2 1 2 2 2 1 1 1 1 2 1 2 1 1 1 2 2 2 1 0 1 0 2 0 0 0 1\n",
            " 0 1 2 2 0 0 1 0 0 0 1 0 1 1 2 2 1 0 2 0 2 2 2 2 1 2 1 0 1 1 1 2 2 1 0 1 0\n",
            " 2 1 1 2 1 2 1 2 0 1 2 1 2 2 1 1 1 0 1 2 1 1 1 0 1 2 1 2 2 2 2 0 2 1 1 0 0\n",
            " 0 2 0 0 2 2 2 2 0 1 2 1 1 2 2 2 1 2 0 2 1 0 0 1 2 2 0 2 1 1 2 2 2 1 2 1 0\n",
            " 2 2 2 2 1 2 2 0 0 1 1 1 2 0 2 1 1 1 2 0 0 0 2 1 2 2 2 0 2 1 0 1 2 1 2 2 1\n",
            " 1 2 1 1 2 1 1 2 0 2 0 2 1 2 0 2 0 2 2 1 0 1 2 0 0 2 0 0 1 1 1 2 1 2 2 1 2\n",
            " 2 2 1 2 2 0 2 2 2 1 2 1 1 1 0 2 1 1 1 0 0 2 2 0 2 1 0 1 2 0 1 0 1 1 2 0 1\n",
            " 2 0 2 2 1 2 2 0 1 2 0 2 2 0 2 2 2 2 1 0 1 1 2 1 2 1 1 1 0 2 0 0 1 0 1 2 0\n",
            " 1 2 2 1 1 2 2 2 1 1 1 0 0 0 1 0 0 0 2 2 0 1 2 2 1 1 2 1 2 1 2 1 1 2 2 0 2\n",
            " 2 1 2 2 2 1 1 1 2 2 0 0 0 2 0 2 0 1 2 2 1 2 1 0 2 1 0 1 1 1 1 1 1 0 1 2 1\n",
            " 1 2 0 1 1 2 2 0 2 1 1 0 2 2 0 2 1 0 1 2 2 1 1 2 1 2 2 1 1 1 1 2 2 0 2 2 2\n",
            " 1 1 2 2 0 0 1 0 1 0 1 1 0 0 1 0 0 1 1 2 1 2 2 0 1 0 0 0 2 0 1 2 2 1 1 0 1\n",
            " 2 2 0 2 0 2 1 2 1 2 0 2 1 1 2 1 2 0 2 0 2 2 2 0 1 2 2 2 1 0 2 1 0 1 2 1 2\n",
            " 2 1 0 1 2 2 1 0 2 2 2 2 1 0 0 1 1 1 0 0 1 1 1 0 1 1 2 0 0 0 1 2 1 1 0 0 0\n",
            " 1 2 1 2 0 2 2 0 0 2 2 2 0 1 2 1 0 1 1 0 1 1 0 0 1 1 1 1 0 1 0 1 0 2 1 1 0\n",
            " 0 2 0 2 0 1 0 2 1 0 0 1 0 1 2 2 1 0 2 0 1 1 2 1 1 2 0 2 1 2 2 1 2 1 1 0 0\n",
            " 1 2 1 1 0 0 2 0 2 1 0 2 0 2 2 2 0 2 1 2 2 1 1 2 2 1 1 1 2 1 1 2 1 2 1 1 2\n",
            " 0 2 1 0 2 1 1 1 2 0 2 2 2 0 0 1 1 2 2 2 1 2 2 2 2 2 1 1 2 1 0 0 1 0 2 2 1\n",
            " 1 2 1 1 1 0 0 0 1 2 0 1 2 1 0 2 1 1 2 1 2 1 0 2 2 2 2 2 1 0 1 1 2 2 1 0 1\n",
            " 0 2 2 1 1 2 0 1 0 0 0 0 2 0 1 1 0 1 0 2 1 1 2 1 1 2 1 2 2 2 2 1 1 0 2 1 1\n",
            " 0 2 1 2 2 2 2 2 0 0 2 2 0 1 2 1 0 1 0 1 2]\n"
          ]
        }
      ]
    },
    {
      "cell_type": "code",
      "metadata": {
        "id": "8m3krr9F12kD",
        "colab": {
          "base_uri": "https://localhost:8080/"
        },
        "outputId": "f9a1ed38-e423-4f0d-d2b5-c72cad958223"
      },
      "source": [
        "labels = (validation_generator.class_indices)\n",
        "labelss = dict((v,k) for k,v in labels.items())\n",
        "predictions = [labelss[k] for k in predicted_class_indices]\n",
        "\n",
        "filenames=validation_generator.filenames\n",
        "results=pd.DataFrame({\"Filename\":filenames,\n",
        "                      \"Predictions\":predictions})\n",
        "\n",
        "print(results)"
      ],
      "execution_count": null,
      "outputs": [
        {
          "output_type": "stream",
          "name": "stdout",
          "text": [
            "                    Filename Predictions\n",
            "0              army/1006.png       tanks\n",
            "1              army/1009.png       tanks\n",
            "2               army/101.png       tanks\n",
            "3              army/1024.png       tanks\n",
            "4              army/1031.png         men\n",
            "..                       ...         ...\n",
            "793         tanks/vt5_l8.jpg        army\n",
            "794       tanks/vt5_main.jpg         men\n",
            "795      tanks/ztq_15_l3.jpg        army\n",
            "796      tanks/ztq_15_l7.jpg         men\n",
            "797  tanks/zulfiqar_1_l1.jpg       tanks\n",
            "\n",
            "[798 rows x 2 columns]\n"
          ]
        }
      ]
    },
    {
      "cell_type": "code",
      "metadata": {
        "id": "WZPiLOisplpO"
      },
      "source": [
        "results.to_csv('results.csv')"
      ],
      "execution_count": null,
      "outputs": []
    },
    {
      "cell_type": "code",
      "metadata": {
        "id": "6N42ExHJzjP5",
        "colab": {
          "base_uri": "https://localhost:8080/",
          "height": 17
        },
        "outputId": "29ba5239-824e-4961-8c8b-2b269fac1048"
      },
      "source": [
        "files.download(\"/content/results.csv\")"
      ],
      "execution_count": null,
      "outputs": [
        {
          "output_type": "display_data",
          "data": {
            "application/javascript": [
              "\n",
              "    async function download(id, filename, size) {\n",
              "      if (!google.colab.kernel.accessAllowed) {\n",
              "        return;\n",
              "      }\n",
              "      const div = document.createElement('div');\n",
              "      const label = document.createElement('label');\n",
              "      label.textContent = `Downloading \"${filename}\": `;\n",
              "      div.appendChild(label);\n",
              "      const progress = document.createElement('progress');\n",
              "      progress.max = size;\n",
              "      div.appendChild(progress);\n",
              "      document.body.appendChild(div);\n",
              "\n",
              "      const buffers = [];\n",
              "      let downloaded = 0;\n",
              "\n",
              "      const channel = await google.colab.kernel.comms.open(id);\n",
              "      // Send a message to notify the kernel that we're ready.\n",
              "      channel.send({})\n",
              "\n",
              "      for await (const message of channel.messages) {\n",
              "        // Send a message to notify the kernel that we're ready.\n",
              "        channel.send({})\n",
              "        if (message.buffers) {\n",
              "          for (const buffer of message.buffers) {\n",
              "            buffers.push(buffer);\n",
              "            downloaded += buffer.byteLength;\n",
              "            progress.value = downloaded;\n",
              "          }\n",
              "        }\n",
              "      }\n",
              "      const blob = new Blob(buffers, {type: 'application/binary'});\n",
              "      const a = document.createElement('a');\n",
              "      a.href = window.URL.createObjectURL(blob);\n",
              "      a.download = filename;\n",
              "      div.appendChild(a);\n",
              "      a.click();\n",
              "      div.remove();\n",
              "    }\n",
              "  "
            ],
            "text/plain": [
              "<IPython.core.display.Javascript object>"
            ]
          },
          "metadata": {}
        },
        {
          "output_type": "display_data",
          "data": {
            "application/javascript": [
              "download(\"download_88db6f4f-940f-4459-97b2-161cf9388f37\", \"results.csv\", 20772)"
            ],
            "text/plain": [
              "<IPython.core.display.Javascript object>"
            ]
          },
          "metadata": {}
        }
      ]
    },
    {
      "cell_type": "code",
      "metadata": {
        "id": "IVcZMtKcECt9"
      },
      "source": [
        "import os\n",
        "\n",
        "res_dir = '/content/results/'\n",
        "os.mkdir(res_dir)\n",
        "\n",
        "#create two folders (train and validation)\n",
        "army_dir = os.path.join(res_dir, 'army')\n",
        "os.mkdir(army_dir)\n",
        "\n",
        "men_dir = os.path.join(res_dir, 'men')\n",
        "os.mkdir(men_dir)\n",
        "\n",
        "tanks_dir = os.path.join(res_dir, 'tanks')\n",
        "os.mkdir(tanks_dir)\n",
        "\n",
        "#Under army folder create five folders \n",
        "\n",
        "army_cloud_dir = os.path.join(army_dir, 'army')\n",
        "os.mkdir(army_cloud_dir)\n",
        "\n",
        "army_foggy_dir = os.path.join(army_dir, 'men')\n",
        "os.mkdir(army_foggy_dir)\n",
        "\n",
        "army_rainy_dir = os.path.join(army_dir, 'tanks')\n",
        "os.mkdir(army_rainy_dir)\n",
        "\n",
        "#Under men folder create five folders \n",
        "\n",
        "men_cloud_dir = os.path.join(men_dir, 'army')\n",
        "os.mkdir(men_cloud_dir)\n",
        "\n",
        "men_foggy_dir = os.path.join(men_dir, 'men')\n",
        "os.mkdir(men_foggy_dir)\n",
        "\n",
        "men_rainy_dir = os.path.join(men_dir, 'tanks')\n",
        "os.mkdir(men_rainy_dir)\n",
        "\n",
        "#Under tanks folder create five folders \n",
        "\n",
        "tanks_cloud_dir = os.path.join(tanks_dir, 'army')\n",
        "os.mkdir(tanks_cloud_dir)\n",
        "\n",
        "tanks_foggy_dir = os.path.join(tanks_dir, 'men')\n",
        "os.mkdir(tanks_foggy_dir)\n",
        "\n",
        "tanks_rainy_dir = os.path.join(tanks_dir, 'tanks')\n",
        "os.mkdir(tanks_rainy_dir)"
      ],
      "execution_count": null,
      "outputs": []
    },
    {
      "cell_type": "code",
      "metadata": {
        "id": "M9T6VQVkq2Ld",
        "colab": {
          "base_uri": "https://localhost:8080/",
          "height": 204
        },
        "outputId": "9b53c22d-231a-43a6-9084-7017821a0e27"
      },
      "source": [
        "import pandas as pd\n",
        "\n",
        "final = pd.read_csv('results.csv')\n",
        "final.head()"
      ],
      "execution_count": null,
      "outputs": [
        {
          "output_type": "execute_result",
          "data": {
            "text/html": [
              "<div>\n",
              "<style scoped>\n",
              "    .dataframe tbody tr th:only-of-type {\n",
              "        vertical-align: middle;\n",
              "    }\n",
              "\n",
              "    .dataframe tbody tr th {\n",
              "        vertical-align: top;\n",
              "    }\n",
              "\n",
              "    .dataframe thead th {\n",
              "        text-align: right;\n",
              "    }\n",
              "</style>\n",
              "<table border=\"1\" class=\"dataframe\">\n",
              "  <thead>\n",
              "    <tr style=\"text-align: right;\">\n",
              "      <th></th>\n",
              "      <th>Unnamed: 0</th>\n",
              "      <th>Filename</th>\n",
              "      <th>Predictions</th>\n",
              "    </tr>\n",
              "  </thead>\n",
              "  <tbody>\n",
              "    <tr>\n",
              "      <th>0</th>\n",
              "      <td>0</td>\n",
              "      <td>army/1006.png</td>\n",
              "      <td>tanks</td>\n",
              "    </tr>\n",
              "    <tr>\n",
              "      <th>1</th>\n",
              "      <td>1</td>\n",
              "      <td>army/1009.png</td>\n",
              "      <td>tanks</td>\n",
              "    </tr>\n",
              "    <tr>\n",
              "      <th>2</th>\n",
              "      <td>2</td>\n",
              "      <td>army/101.png</td>\n",
              "      <td>tanks</td>\n",
              "    </tr>\n",
              "    <tr>\n",
              "      <th>3</th>\n",
              "      <td>3</td>\n",
              "      <td>army/1024.png</td>\n",
              "      <td>tanks</td>\n",
              "    </tr>\n",
              "    <tr>\n",
              "      <th>4</th>\n",
              "      <td>4</td>\n",
              "      <td>army/1031.png</td>\n",
              "      <td>men</td>\n",
              "    </tr>\n",
              "  </tbody>\n",
              "</table>\n",
              "</div>"
            ],
            "text/plain": [
              "   Unnamed: 0       Filename Predictions\n",
              "0           0  army/1006.png       tanks\n",
              "1           1  army/1009.png       tanks\n",
              "2           2   army/101.png       tanks\n",
              "3           3  army/1024.png       tanks\n",
              "4           4  army/1031.png         men"
            ]
          },
          "metadata": {},
          "execution_count": 44
        }
      ]
    },
    {
      "cell_type": "code",
      "metadata": {
        "id": "AK_ZZDpvwHfJ"
      },
      "source": [
        "for num in range(599):\n",
        "  img_path = '/content/combined/' + final.Filename[num]\n",
        "  des = '/content/results/' + final.Predictions[num] + '/' + final.Filename[num]\n",
        "  copyfile(img_path, des)"
      ],
      "execution_count": null,
      "outputs": []
    },
    {
      "cell_type": "code",
      "metadata": {
        "id": "RDx2JUDIO6hf"
      },
      "source": [
        "!zip -r /content/result.zip /content/results"
      ],
      "execution_count": null,
      "outputs": []
    },
    {
      "cell_type": "code",
      "metadata": {
        "id": "0eJAqXU92qRR",
        "colab": {
          "base_uri": "https://localhost:8080/"
        },
        "outputId": "6f749d2c-2222-49fd-dbe1-90622a94c285"
      },
      "source": [
        "scores=model.predict(validation_generator)\n",
        "\n",
        "predicted_class_indices=np.argmax(scores,axis=1)\n",
        "print(predicted_class_indices)"
      ],
      "execution_count": null,
      "outputs": [
        {
          "output_type": "stream",
          "name": "stdout",
          "text": [
            "[2 2 0 2 2 1 0 1 2 1 0 2 2 2 2 0 0 2 1 2 2 0 1 0 1 1 0 1 1 2 1 2 2 2 2 1 2\n",
            " 2 2 1 1 2 1 1 2 1 0 0 0 1 0 0 1 0 2 1 2 0 1 2 2 1 2 1 2 2 2 2 1 0 0 2 2 1\n",
            " 1 0 1 2 2 0 0 0 2 2 2 1 0 0 2 2 2 2 1 1 1 2 2 2 1 2 2 2 0 2 1 2 1 0 1 0 2\n",
            " 2 0 0 1 1 1 1 1 1 2 2 1 2 1 1 2 1 1 1 1 2 1 2 1 2 0 1 1 1 1 2 2 2 1 0 1 2\n",
            " 0 0 0 1 2 1 2 2 2 0 1 1 2 2 2 0 2 2 0 0 1 2 1 0 1 0 1 1 0 2 0 1 1 2 2 2 2\n",
            " 1 1 1 1 2 2 0 1 2 1 1 2 2 2 2 2 1 2 2 2 0 1 0 2 2 2 1 2 1 1 0 0 2 1 2 0 2\n",
            " 2 1 2 1 1 2 2 1 1 0 1 1 0 2 0 0 2 0 0 0 0 2 2 2 2 2 0 1 0 1 2 0 1 1 0 1 2\n",
            " 1 2 2 1 1 2 2 2 2 1 1 2 2 0 1 0 2 2 2 2 2 0 0 0 0 2 2 2 1 1 1 0 1 1 0 1 2\n",
            " 2 1 2 1 2 0 2 2 0 1 2 2 2 1 0 1 1 2 2 1 2 1 2 0 1 0 0 1 1 1 0 2 0 1 0 2 1\n",
            " 2 0 1 0 1 2 1 2 0 2 1 2 0 1 2 0 1 1 2 0 0 0 1 1 1 2 1 2 2 2 1 0 1 0 1 0 1\n",
            " 2 1 1 2 2 2 1 1 2 2 1 0 1 1 2 2 0 1 2 2 1 1 2 0 2 0 2 0 0 2 0 2 0 2 0 0 2\n",
            " 0 2 2 1 2 1 1 0 0 0 1 2 0 1 2 2 1 2 1 2 0 1 2 2 2 2 2 2 0 1 0 2 1 0 1 0 2\n",
            " 2 0 1 1 1 1 1 1 0 2 2 1 2 0 0 0 1 0 1 1 0 1 1 2 1 1 0 2 2 2 1 0 1 1 2 2 1\n",
            " 1 0 2 1 2 2 1 0 0 2 0 0 1 1 0 2 2 2 1 1 1 1 1 1 2 2 2 2 1 1 0 2 1 1 2 2 2\n",
            " 2 2 2 0 1 0 2 1 1 2 1 0 0 2 1 1 2 1 0 0 2 1 0 1 1 1 0 1 1 0 2 2 0 1 2 2 1\n",
            " 1 2 0 0 1 2 2 1 0 1 0 1 1 1 2 1 2 0 1 2 1 1 2 0 1 2 2 0 1 2 1 2 2 1 0 1 0\n",
            " 1 1 0 1 0 1 0 2 1 2 1 1 1 1 2 1 2 2 2 1 2 1 0 2 2 2 0 0 2 1 1 0 2 0 1 1 1\n",
            " 1 1 0 1 0 1 1 1 2 1 2 2 0 1 0 0 1 0 2 2 2 2 1 2 0 0 1 0 0 0 1 1 0 2 2 2 2\n",
            " 1 1 2 0 0 2 2 0 1 1 0 2 0 1 2 0 2 2 1 0 1 2 2 1 1 2 2 0 2 0 1 2 0 0 2 2 2\n",
            " 0 1 0 2 2 1 1 2 0 2 1 0 0 1 1 2 0 1 2 1 0 1 1 1 0 2 2 0 1 2 2 2 0 0 1 2 2\n",
            " 1 2 1 1 2 1 2 0 2 2 2 0 1 1 1 2 0 0 0 0 1 1 1 1 2 1 1 2 2 1 1 1 2 2 2 2 2\n",
            " 2 1 1 2 1 2 1 1 1 2 2 1 0 0 1 1 2 2 2 2 0]\n"
          ]
        }
      ]
    },
    {
      "cell_type": "code",
      "metadata": {
        "id": "Mvld5jBlfWGO",
        "colab": {
          "base_uri": "https://localhost:8080/"
        },
        "outputId": "722c7641-e5e7-493e-deb1-5e509573446b"
      },
      "source": [
        "import matplotlib\n",
        "from sklearn.metrics import confusion_matrix, plot_confusion_matrix\n",
        "from sklearn.metrics import multilabel_confusion_matrix\n",
        "import numpy as np\n",
        "\n",
        "\n",
        "y_true = validation_generator.classes\n",
        "# print(y_true)\n",
        "\n",
        "mat = confusion_matrix(y_true, predicted_class_indices)\n",
        "# multilabel_confusion_matrix(y_true, y_pred, labels=['army', 'men', 'tanks'])\n",
        "print(mat)"
      ],
      "execution_count": null,
      "outputs": [
        {
          "output_type": "stream",
          "name": "stdout",
          "text": [
            "[[ 67 105 128]\n",
            " [ 72 108 102]\n",
            " [ 54  82  80]]\n"
          ]
        }
      ]
    }
  ]
}
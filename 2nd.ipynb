{
  "nbformat": 4,
  "nbformat_minor": 0,
  "metadata": {
    "colab": {
      "name": "Untitled8.ipynb",
      "provenance": [],
      "collapsed_sections": [],
      "authorship_tag": "ABX9TyNcMj07p5QLLgObVYX74G1o",
      "include_colab_link": true
    },
    "kernelspec": {
      "name": "python3",
      "display_name": "Python 3"
    },
    "language_info": {
      "name": "python"
    }
  },
  "cells": [
    {
      "cell_type": "markdown",
      "metadata": {
        "id": "view-in-github",
        "colab_type": "text"
      },
      "source": [
        "<a href=\"https://colab.research.google.com/github/muhammad-usama-aleem/classification_general_military_tank/blob/main/2nd.ipynb\" target=\"_parent\"><img src=\"https://colab.research.google.com/assets/colab-badge.svg\" alt=\"Open In Colab\"/></a>"
      ]
    },
    {
      "cell_type": "code",
      "metadata": {
        "colab": {
          "base_uri": "https://localhost:8080/"
        },
        "id": "bwYHINNmrtVj",
        "outputId": "a111b816-6231-45db-88f0-78e3c3a8a385"
      },
      "source": [
        "from google.colab import drive\n",
        "drive.mount(\"/content/gdrive\")"
      ],
      "execution_count": null,
      "outputs": [
        {
          "output_type": "stream",
          "name": "stdout",
          "text": [
            "Mounted at /content/gdrive\n"
          ]
        }
      ]
    },
    {
      "cell_type": "code",
      "metadata": {
        "id": "JBIOWE88XsYI"
      },
      "source": [
        "!pip install unrar\n",
        "!unrar x /content/gdrive/MyDrive/images.rar"
      ],
      "execution_count": null,
      "outputs": []
    },
    {
      "cell_type": "code",
      "metadata": {
        "id": "yK2UFYagkTij"
      },
      "source": [
        "!rm -rf /content/vehicles/images"
      ],
      "execution_count": null,
      "outputs": []
    },
    {
      "cell_type": "code",
      "metadata": {
        "id": "bBZk4RzUYUTe"
      },
      "source": [
        "import os\n",
        "\n",
        "base_dir = '/content/combined/'\n",
        "os.mkdir(base_dir)"
      ],
      "execution_count": null,
      "outputs": []
    },
    {
      "cell_type": "code",
      "metadata": {
        "id": "6EODxQihbyIM"
      },
      "source": [
        "!mv /content/vehicles /content/combined"
      ],
      "execution_count": null,
      "outputs": []
    },
    {
      "cell_type": "code",
      "metadata": {
        "id": "SVakY1JcdHvK"
      },
      "source": [
        "!mv /content/general /content/combined"
      ],
      "execution_count": null,
      "outputs": []
    },
    {
      "cell_type": "code",
      "metadata": {
        "id": "vJu9cyMHdUEi"
      },
      "source": [
        "!mv /content/army /content/combined"
      ],
      "execution_count": null,
      "outputs": []
    },
    {
      "cell_type": "markdown",
      "metadata": {
        "id": "kRigy6x-fMQ3"
      },
      "source": [
        "# EfficientNet Implementation"
      ]
    },
    {
      "cell_type": "code",
      "metadata": {
        "colab": {
          "base_uri": "https://localhost:8080/"
        },
        "id": "jxddCptefLUT",
        "outputId": "7cf23a2f-b8df-4398-fd87-21034c83b473"
      },
      "source": [
        "import numpy as np\n",
        "import tensorflow as tf\n",
        "\n",
        "import numpy as np \n",
        "import pandas as pd \n",
        "import matplotlib.pyplot as plt\n",
        "import os\n",
        "\n",
        "dataset_path = os.listdir('combined')\n",
        "\n",
        "print (dataset_path)  #what kinds of classes are in this dataset\n",
        "\n",
        "print(\"Types of classes labels found: \", len(dataset_path))"
      ],
      "execution_count": null,
      "outputs": [
        {
          "output_type": "stream",
          "name": "stdout",
          "text": [
            "['general', 'army', 'vehicles']\n",
            "Types of classes labels found:  3\n"
          ]
        }
      ]
    },
    {
      "cell_type": "code",
      "metadata": {
        "id": "HtQASN-NgShO"
      },
      "source": [
        "class_labels = []\n",
        "\n",
        "for item in dataset_path:\n",
        " # Get all the file names\n",
        " all_classes = os.listdir('combined' + '/' +item)\n",
        "#  print(all_classes)\n",
        "\n",
        " # Add them to the list\n",
        " for room in all_classes:\n",
        "    class_labels.append((item, str('dataset_path' + '/' +item) + '/' + room))\n",
        "    # print(class_labels[:5])"
      ],
      "execution_count": null,
      "outputs": []
    },
    {
      "cell_type": "code",
      "metadata": {
        "colab": {
          "base_uri": "https://localhost:8080/"
        },
        "id": "TE54RqCsw96p",
        "outputId": "83c789c0-482f-4b9d-d0fd-e4f770dbf4af"
      },
      "source": [
        "print(len(class_labels))"
      ],
      "execution_count": null,
      "outputs": [
        {
          "output_type": "stream",
          "name": "stdout",
          "text": [
            "1515\n"
          ]
        }
      ]
    },
    {
      "cell_type": "code",
      "metadata": {
        "colab": {
          "base_uri": "https://localhost:8080/"
        },
        "id": "ux_KtBhdmP-c",
        "outputId": "5f17a7fd-78ad-48cc-d814-c05988d29b07"
      },
      "source": [
        "# Build a dataframe        \n",
        "df = pd.DataFrame(data=class_labels, columns=['Labels', 'image'])\n",
        "print(df.head())\n",
        "print(df.tail())"
      ],
      "execution_count": null,
      "outputs": [
        {
          "output_type": "stream",
          "name": "stdout",
          "text": [
            "    Labels                               image\n",
            "0  general  dataset_path/general/image_821.jpg\n",
            "1  general   dataset_path/general/image_10.jpg\n",
            "2  general  dataset_path/general/image_361.jpg\n",
            "3  general  dataset_path/general/image_623.jpg\n",
            "4  general  dataset_path/general/image_598.jpg\n",
            "        Labels                                      image\n",
            "1510  vehicles  dataset_path/vehicles/challenger_1_l3.jpg\n",
            "1511  vehicles  dataset_path/vehicles/k21_with_xc8_l1.jpg\n",
            "1512  vehicles   dataset_path/vehicles/leopard_2a5_l1.jpg\n",
            "1513  vehicles   dataset_path/vehicles/leopard_2ng_l2.jpg\n",
            "1514  vehicles       dataset_path/vehicles/leclerc_l4.jpg\n"
          ]
        }
      ]
    },
    {
      "cell_type": "code",
      "metadata": {
        "colab": {
          "base_uri": "https://localhost:8080/"
        },
        "id": "ei236GUboJs_",
        "outputId": "ffaea4c8-fd2d-43d4-beb1-4cedc4704c60"
      },
      "source": [
        "# Let's check how many samples for each category are present\n",
        "print(\"Total number of images in the dataset: \", len(df))\n",
        "\n",
        "label_count = df['Labels'].value_counts()\n",
        "print(label_count)"
      ],
      "execution_count": null,
      "outputs": [
        {
          "output_type": "stream",
          "name": "stdout",
          "text": [
            "Total number of images in the dataset:  1515\n",
            "general     513\n",
            "army        502\n",
            "vehicles    500\n",
            "Name: Labels, dtype: int64\n"
          ]
        }
      ]
    },
    {
      "cell_type": "code",
      "metadata": {
        "colab": {
          "base_uri": "https://localhost:8080/"
        },
        "id": "XFSeX417oUFH",
        "outputId": "4672a096-31ab-4572-dc60-22181f59cbcd"
      },
      "source": [
        "import cv2\n",
        "path = 'combined/'\n",
        "dataset_path = os.listdir('combined')\n",
        "\n",
        "im_size = 224\n",
        "\n",
        "images = []\n",
        "labels = []\n",
        "\n",
        "for i in dataset_path:\n",
        "    data_path = path + str(i)  \n",
        "    filenames = [i for i in os.listdir(data_path) ]\n",
        "    print(data_path)\n",
        "    for f in filenames:\n",
        "        img = cv2.imread(data_path + '/' + f)\n",
        "        # img = cv2.resize(img, (im_size, im_size), interpolation=cv2.INTER_CUBIC)\n",
        "        try:\n",
        "           img = cv2.resize(img, (im_size, im_size), interpolation=cv2.INTER_AREA)\n",
        "          #  print(img.shape)\n",
        "        except:\n",
        "          print(img, f,'------------------------------------------------------------------------------------------')\n",
        "        images.append(img)\n",
        "        labels.append(i)"
      ],
      "execution_count": null,
      "outputs": [
        {
          "output_type": "stream",
          "name": "stdout",
          "text": [
            "combined/general\n",
            "combined/army\n",
            "combined/vehicles\n"
          ]
        }
      ]
    },
    {
      "cell_type": "code",
      "metadata": {
        "colab": {
          "base_uri": "https://localhost:8080/"
        },
        "id": "96lPi0OGtEpa",
        "outputId": "37f4fde0-393e-429c-a43f-eb1995540c7d"
      },
      "source": [
        "images = np.array(images)\n",
        "\n",
        "images = images.astype('float32') / 255.0\n",
        "images.shape"
      ],
      "execution_count": null,
      "outputs": [
        {
          "output_type": "execute_result",
          "data": {
            "text/plain": [
              "(1515, 224, 224, 3)"
            ]
          },
          "metadata": {},
          "execution_count": 27
        }
      ]
    },
    {
      "cell_type": "code",
      "metadata": {
        "colab": {
          "base_uri": "https://localhost:8080/"
        },
        "id": "lvMRkZvItJfh",
        "outputId": "f380976e-49ef-4436-ddcc-e51ef08ffdb7"
      },
      "source": [
        "from sklearn.preprocessing import LabelEncoder , OneHotEncoder\n",
        "y=df['Labels'].values\n",
        "print(y)\n",
        "print(len(y))\n",
        "print(list(set(y)))\n",
        "y_labelencoder = LabelEncoder ()\n",
        "y = y_labelencoder.fit_transform (y)\n",
        "print(y)\n",
        "print(list(set(y)))"
      ],
      "execution_count": null,
      "outputs": [
        {
          "output_type": "stream",
          "name": "stdout",
          "text": [
            "['general' 'general' 'general' ... 'vehicles' 'vehicles' 'vehicles']\n",
            "1515\n",
            "['vehicles', 'general', 'army']\n",
            "[1 1 1 ... 2 2 2]\n",
            "[0, 1, 2]\n"
          ]
        }
      ]
    },
    {
      "cell_type": "code",
      "metadata": {
        "colab": {
          "base_uri": "https://localhost:8080/"
        },
        "id": "VxCc2Ls0tqzF",
        "outputId": "474c34fd-2b6e-4f12-cff4-bf0812dd6feb"
      },
      "source": [
        "y=y.reshape(-1,1)\n",
        "\n",
        "from sklearn.compose import ColumnTransformer\n",
        "ct = ColumnTransformer([('my_ohe', OneHotEncoder(), [0])], remainder='passthrough')\n",
        "Y = ct.fit_transform(y) #.toarray()\n",
        "print(Y[:5])\n",
        "print(Y[35:])"
      ],
      "execution_count": null,
      "outputs": [
        {
          "output_type": "stream",
          "name": "stdout",
          "text": [
            "[[0. 1. 0.]\n",
            " [0. 1. 0.]\n",
            " [0. 1. 0.]\n",
            " [0. 1. 0.]\n",
            " [0. 1. 0.]]\n",
            "[[0. 1. 0.]\n",
            " [0. 1. 0.]\n",
            " [0. 1. 0.]\n",
            " ...\n",
            " [0. 0. 1.]\n",
            " [0. 0. 1.]\n",
            " [0. 0. 1.]]\n"
          ]
        }
      ]
    },
    {
      "cell_type": "code",
      "metadata": {
        "colab": {
          "base_uri": "https://localhost:8080/"
        },
        "id": "K-UIMOnjuSe5",
        "outputId": "a9188237-c0ff-4afd-b417-c1cfe93df9b3"
      },
      "source": [
        "print(images.shape, Y.shape)"
      ],
      "execution_count": null,
      "outputs": [
        {
          "output_type": "stream",
          "name": "stdout",
          "text": [
            "(1515, 224, 224, 3) (1515, 3)\n"
          ]
        }
      ]
    },
    {
      "cell_type": "code",
      "metadata": {
        "id": "aZelQ0brt9FW",
        "colab": {
          "base_uri": "https://localhost:8080/"
        },
        "outputId": "354df8e9-5bfb-4032-bd34-b6e4e0dcb5e5"
      },
      "source": [
        "from sklearn.utils import shuffle\n",
        "from sklearn.model_selection import train_test_split\n",
        "\n",
        "\n",
        "images, Y = shuffle(images, Y, random_state=1)\n",
        "\n",
        "\n",
        "train_x, test_x, train_y, test_y = train_test_split(images, Y, test_size=0.2, random_state=0)\n",
        "\n",
        "#inpect the shape of the training and testing.\n",
        "print(train_x.shape)\n",
        "print(train_y.shape)\n",
        "print(test_x.shape)\n",
        "print(test_y.shape)"
      ],
      "execution_count": null,
      "outputs": [
        {
          "output_type": "stream",
          "name": "stdout",
          "text": [
            "(1212, 224, 224, 3)\n",
            "(1212, 3)\n",
            "(303, 224, 224, 3)\n",
            "(303, 3)\n"
          ]
        }
      ]
    },
    {
      "cell_type": "markdown",
      "metadata": {
        "id": "UCQaLxa4thWE"
      },
      "source": [
        "# EfficientNetB0\n"
      ]
    },
    {
      "cell_type": "code",
      "metadata": {
        "id": "36KgD0gEyTYN"
      },
      "source": [
        "from tensorflow.keras import layers\n",
        "from tensorflow.keras.applications import EfficientNetB0\n",
        "\n",
        "NUM_CLASSES = 3\n",
        "IMG_SIZE = 224\n",
        "size = (IMG_SIZE, IMG_SIZE)\n",
        "\n",
        "\n",
        "inputs = layers.Input(shape=(IMG_SIZE, IMG_SIZE, 3))\n",
        "\n",
        "\n",
        "# Using model without transfer learning\n",
        "\n",
        "outputs = EfficientNetB0(include_top=True, weights=None, classes=NUM_CLASSES)(inputs)"
      ],
      "execution_count": null,
      "outputs": []
    },
    {
      "cell_type": "code",
      "metadata": {
        "colab": {
          "base_uri": "https://localhost:8080/"
        },
        "id": "lw99L7bYybPq",
        "outputId": "f85d15eb-48da-41f3-e01c-3286155fc5cb"
      },
      "source": [
        "model = tf.keras.Model(inputs, outputs)\n",
        "\n",
        "model.compile(optimizer=\"adam\", loss=\"categorical_crossentropy\", metrics=[\"accuracy\"] )\n",
        "# change optimizer and loss function\n",
        "\n",
        "model.summary()"
      ],
      "execution_count": null,
      "outputs": [
        {
          "output_type": "stream",
          "name": "stdout",
          "text": [
            "Model: \"model\"\n",
            "_________________________________________________________________\n",
            "Layer (type)                 Output Shape              Param #   \n",
            "=================================================================\n",
            "input_1 (InputLayer)         [(None, 224, 224, 3)]     0         \n",
            "_________________________________________________________________\n",
            "efficientnetb0 (Functional)  (None, 3)                 4053414   \n",
            "=================================================================\n",
            "Total params: 4,053,414\n",
            "Trainable params: 4,011,391\n",
            "Non-trainable params: 42,023\n",
            "_________________________________________________________________\n"
          ]
        }
      ]
    },
    {
      "cell_type": "code",
      "metadata": {
        "colab": {
          "base_uri": "https://localhost:8080/"
        },
        "id": "xscJEtPuyhC_",
        "outputId": "d425bad8-95eb-4c27-fb77-f4f940b509fb"
      },
      "source": [
        "hist = model.fit(train_x, train_y, epochs=30, verbose=2)"
      ],
      "execution_count": null,
      "outputs": [
        {
          "output_type": "stream",
          "name": "stdout",
          "text": [
            "Epoch 1/30\n",
            "38/38 - 268s - loss: 2.8330 - accuracy: 0.4191\n",
            "Epoch 2/30\n",
            "38/38 - 260s - loss: 1.6353 - accuracy: 0.5462\n",
            "Epoch 3/30\n",
            "38/38 - 259s - loss: 1.4423 - accuracy: 0.6238\n",
            "Epoch 4/30\n",
            "38/38 - 257s - loss: 0.8700 - accuracy: 0.7211\n",
            "Epoch 5/30\n",
            "38/38 - 256s - loss: 0.8442 - accuracy: 0.7335\n",
            "Epoch 6/30\n",
            "38/38 - 255s - loss: 1.0968 - accuracy: 0.7252\n",
            "Epoch 7/30\n",
            "38/38 - 256s - loss: 0.5932 - accuracy: 0.8061\n",
            "Epoch 8/30\n",
            "38/38 - 256s - loss: 0.4523 - accuracy: 0.8573\n",
            "Epoch 9/30\n",
            "38/38 - 256s - loss: 0.5511 - accuracy: 0.8614\n",
            "Epoch 10/30\n",
            "38/38 - 256s - loss: 0.3768 - accuracy: 0.8861\n",
            "Epoch 11/30\n",
            "38/38 - 256s - loss: 0.3385 - accuracy: 0.8812\n",
            "Epoch 12/30\n",
            "38/38 - 256s - loss: 0.2516 - accuracy: 0.9191\n",
            "Epoch 13/30\n",
            "38/38 - 257s - loss: 0.1763 - accuracy: 0.9356\n",
            "Epoch 14/30\n",
            "38/38 - 260s - loss: 0.2641 - accuracy: 0.9373\n",
            "Epoch 15/30\n",
            "38/38 - 261s - loss: 0.2171 - accuracy: 0.9431\n",
            "Epoch 16/30\n",
            "38/38 - 261s - loss: 0.3947 - accuracy: 0.9059\n",
            "Epoch 17/30\n",
            "38/38 - 261s - loss: 0.5049 - accuracy: 0.8663\n",
            "Epoch 18/30\n",
            "38/38 - 262s - loss: 0.2334 - accuracy: 0.9191\n",
            "Epoch 19/30\n",
            "38/38 - 263s - loss: 0.1777 - accuracy: 0.9431\n",
            "Epoch 20/30\n",
            "38/38 - 263s - loss: 0.2211 - accuracy: 0.9521\n",
            "Epoch 21/30\n",
            "38/38 - 265s - loss: 0.1497 - accuracy: 0.9620\n",
            "Epoch 22/30\n",
            "38/38 - 264s - loss: 0.1901 - accuracy: 0.9554\n",
            "Epoch 23/30\n",
            "38/38 - 265s - loss: 0.1489 - accuracy: 0.9480\n",
            "Epoch 24/30\n",
            "38/38 - 264s - loss: 0.0792 - accuracy: 0.9719\n",
            "Epoch 25/30\n",
            "38/38 - 263s - loss: 0.4057 - accuracy: 0.8861\n",
            "Epoch 26/30\n",
            "38/38 - 262s - loss: 0.2410 - accuracy: 0.9208\n",
            "Epoch 27/30\n",
            "38/38 - 263s - loss: 0.2802 - accuracy: 0.9340\n",
            "Epoch 28/30\n",
            "38/38 - 263s - loss: 0.1897 - accuracy: 0.9439\n",
            "Epoch 29/30\n",
            "38/38 - 262s - loss: 0.1305 - accuracy: 0.9637\n",
            "Epoch 30/30\n",
            "38/38 - 262s - loss: 0.0810 - accuracy: 0.9785\n"
          ]
        }
      ]
    },
    {
      "cell_type": "code",
      "metadata": {
        "colab": {
          "base_uri": "https://localhost:8080/",
          "height": 295
        },
        "id": "ie3IIV5fYIHo",
        "outputId": "a197bf04-8092-4261-adae-c94d00888410"
      },
      "source": [
        "import matplotlib.pyplot as plt\n",
        "\n",
        "\n",
        "def plot_hist(hist):\n",
        "    plt.plot(hist.history[\"accuracy\"])\n",
        "    #plt.plot(hist.history[\"val_accuracy\"])\n",
        "    plt.title(\"model accuracy\")\n",
        "    plt.ylabel(\"accuracy\")\n",
        "    plt.xlabel(\"epoch\")\n",
        "    plt.legend([\"train\", \"validation\"], loc=\"upper left\")\n",
        "    plt.show()\n",
        "\n",
        "\n",
        "plot_hist(hist)"
      ],
      "execution_count": null,
      "outputs": [
        {
          "output_type": "display_data",
          "data": {
            "image/png": "[encoded data removed]",
            "text/plain": [
              "<Figure size 432x288 with 1 Axes>"
            ]
          },
          "metadata": {
            "needs_background": "light"
          }
        }
      ]
    },
    {
      "cell_type": "code",
      "metadata": {
        "colab": {
          "base_uri": "https://localhost:8080/"
        },
        "id": "tIN9hWZIY5P7",
        "outputId": "384b4261-765e-4e88-8538-6e5dd595696d"
      },
      "source": [
        "preds = model.evaluate(test_x, test_y)\n",
        "print (\"Loss = \" + str(preds[0]))\n",
        "print (\"Test Accuracy = \" + str(preds[1]))"
      ],
      "execution_count": null,
      "outputs": [
        {
          "output_type": "stream",
          "name": "stdout",
          "text": [
            "10/10 [==============================] - 15s 1s/step - loss: 1.3297 - accuracy: 0.7459\n",
            "Loss = 1.3297492265701294\n",
            "Test Accuracy = 0.7458745837211609\n"
          ]
        }
      ]
    },
    {
      "cell_type": "code",
      "metadata": {
        "colab": {
          "base_uri": "https://localhost:8080/"
        },
        "id": "9dnUfghFNhYU",
        "outputId": "4b8c8dd3-c6ef-40ea-c9b7-f6ef341c233e"
      },
      "source": [
        "print(test_y.shape, len(preds))"
      ],
      "execution_count": null,
      "outputs": [
        {
          "output_type": "stream",
          "name": "stdout",
          "text": [
            "(303, 3) 2\n"
          ]
        }
      ]
    },
    {
      "cell_type": "code",
      "metadata": {
        "colab": {
          "base_uri": "https://localhost:8080/"
        },
        "id": "1X6x8Oa7RYN_",
        "outputId": "717270b0-6775-485d-ecc3-ff4a2239eb5d"
      },
      "source": [
        "pred = model.predict(test_x)\n",
        "\n",
        "from sklearn.metrics import confusion_matrix\n",
        "pred = np.argmax(pred, axis=1)\n",
        "test_y = np.argmax(test_y, axis=1)\n",
        "confusion = confusion_matrix(test_y, pred)\n",
        "print('Confusion Matrix\\n')\n",
        "print(confusion)"
      ],
      "execution_count": null,
      "outputs": [
        {
          "output_type": "stream",
          "name": "stdout",
          "text": [
            "Confusion Matrix\n",
            "\n",
            "[[45 32 18]\n",
            " [ 5 88  6]\n",
            " [ 2 14 93]]\n"
          ]
        }
      ]
    },
    {
      "cell_type": "code",
      "metadata": {
        "colab": {
          "base_uri": "https://localhost:8080/"
        },
        "id": "SYlMNifsR1Oq",
        "outputId": "2c994ffb-d0b1-497a-8b76-75c1ada98de4"
      },
      "source": [
        "print('accuracy', (45+88+93)/303)"
      ],
      "execution_count": null,
      "outputs": [
        {
          "output_type": "stream",
          "name": "stdout",
          "text": [
            "accuracy 0.7458745874587459\n"
          ]
        }
      ]
    },
    {
      "cell_type": "markdown",
      "metadata": {
        "id": "zQOjxzxLR-Jn"
      },
      "source": [
        "# loss funtion"
      ]
    },
    {
      "cell_type": "code",
      "metadata": {
        "colab": {
          "base_uri": "https://localhost:8080/"
        },
        "id": "I31EtORdR9hT",
        "outputId": "81e5c48b-2db5-4dc0-f464-10ee202458be"
      },
      "source": [
        "model = tf.keras.Model(inputs, outputs)\n",
        "\n",
        "model.compile(optimizer=\"adam\", loss=\"kullback_leibler_divergence\", metrics=[\"accuracy\"] )\n",
        "# change optimizer and loss function\n",
        "\n",
        "model.summary()"
      ],
      "execution_count": null,
      "outputs": [
        {
          "output_type": "stream",
          "name": "stdout",
          "text": [
            "Model: \"model_2\"\n",
            "_________________________________________________________________\n",
            "Layer (type)                 Output Shape              Param #   \n",
            "=================================================================\n",
            "input_1 (InputLayer)         [(None, 224, 224, 3)]     0         \n",
            "_________________________________________________________________\n",
            "efficientnetb0 (Functional)  (None, 3)                 4053414   \n",
            "=================================================================\n",
            "Total params: 4,053,414\n",
            "Trainable params: 4,011,391\n",
            "Non-trainable params: 42,023\n",
            "_________________________________________________________________\n"
          ]
        }
      ]
    },
    {
      "cell_type": "code",
      "metadata": {
        "colab": {
          "base_uri": "https://localhost:8080/"
        },
        "id": "CnLJtLq1S2Zy",
        "outputId": "d41888b2-8afe-4fe8-f564-e04e8a70c696"
      },
      "source": [
        "hist = model.fit(train_x, train_y, epochs=30, verbose=2)"
      ],
      "execution_count": null,
      "outputs": [
        {
          "output_type": "stream",
          "name": "stdout",
          "text": [
            "Epoch 1/30\n",
            "38/38 - 274s - loss: 0.2508 - accuracy: 0.9290\n",
            "Epoch 2/30\n",
            "38/38 - 265s - loss: 0.1152 - accuracy: 0.9645\n",
            "Epoch 3/30\n",
            "38/38 - 267s - loss: 0.1392 - accuracy: 0.9530\n",
            "Epoch 4/30\n",
            "38/38 - 267s - loss: 0.1571 - accuracy: 0.9703\n",
            "Epoch 5/30\n",
            "38/38 - 267s - loss: 0.1540 - accuracy: 0.9703\n",
            "Epoch 6/30\n",
            "38/38 - 266s - loss: 0.1245 - accuracy: 0.9728\n",
            "Epoch 7/30\n",
            "38/38 - 266s - loss: 0.1030 - accuracy: 0.9777\n",
            "Epoch 8/30\n",
            "38/38 - 266s - loss: 0.0685 - accuracy: 0.9785\n",
            "Epoch 9/30\n",
            "38/38 - 267s - loss: 0.0621 - accuracy: 0.9769\n",
            "Epoch 10/30\n",
            "38/38 - 266s - loss: 0.0929 - accuracy: 0.9703\n",
            "Epoch 11/30\n",
            "38/38 - 264s - loss: 0.0521 - accuracy: 0.9835\n",
            "Epoch 12/30\n",
            "38/38 - 265s - loss: 0.0676 - accuracy: 0.9785\n",
            "Epoch 13/30\n",
            "38/38 - 267s - loss: 0.1093 - accuracy: 0.9686\n",
            "Epoch 14/30\n",
            "38/38 - 265s - loss: 0.0775 - accuracy: 0.9777\n",
            "Epoch 15/30\n",
            "38/38 - 264s - loss: 0.5366 - accuracy: 0.8160\n",
            "Epoch 16/30\n",
            "38/38 - 265s - loss: 0.4208 - accuracy: 0.8581\n",
            "Epoch 17/30\n",
            "38/38 - 266s - loss: 0.2397 - accuracy: 0.9431\n",
            "Epoch 18/30\n",
            "38/38 - 266s - loss: 0.1400 - accuracy: 0.9637\n",
            "Epoch 19/30\n",
            "38/38 - 265s - loss: 0.0949 - accuracy: 0.9711\n",
            "Epoch 20/30\n",
            "38/38 - 264s - loss: 0.2167 - accuracy: 0.9513\n",
            "Epoch 21/30\n",
            "38/38 - 266s - loss: 0.1028 - accuracy: 0.9761\n",
            "Epoch 22/30\n",
            "38/38 - 265s - loss: 0.0969 - accuracy: 0.9752\n",
            "Epoch 23/30\n",
            "38/38 - 264s - loss: 0.0641 - accuracy: 0.9876\n",
            "Epoch 24/30\n",
            "38/38 - 265s - loss: 0.0991 - accuracy: 0.9810\n",
            "Epoch 25/30\n",
            "38/38 - 266s - loss: 0.2439 - accuracy: 0.9414\n",
            "Epoch 26/30\n",
            "38/38 - 267s - loss: 0.2359 - accuracy: 0.9233\n",
            "Epoch 27/30\n",
            "38/38 - 266s - loss: 0.1013 - accuracy: 0.9794\n",
            "Epoch 28/30\n",
            "38/38 - 264s - loss: 0.0871 - accuracy: 0.9818\n",
            "Epoch 29/30\n",
            "38/38 - 265s - loss: 0.0344 - accuracy: 0.9868\n",
            "Epoch 30/30\n",
            "38/38 - 265s - loss: 0.0400 - accuracy: 0.9901\n"
          ]
        }
      ]
    },
    {
      "cell_type": "code",
      "metadata": {
        "colab": {
          "base_uri": "https://localhost:8080/",
          "height": 295
        },
        "id": "qvipBfGdS2TD",
        "outputId": "dfca0813-13c0-41ab-b5e0-d0ce595e30af"
      },
      "source": [
        "import matplotlib.pyplot as plt\n",
        "\n",
        "\n",
        "def plot_hist(hist):\n",
        "    plt.plot(hist.history[\"accuracy\"])\n",
        "    #plt.plot(hist.history[\"val_accuracy\"])\n",
        "    plt.title(\"model accuracy\")\n",
        "    plt.ylabel(\"accuracy\")\n",
        "    plt.xlabel(\"epoch\")\n",
        "    plt.legend([\"train\", \"validation\"], loc=\"upper left\")\n",
        "    plt.show()\n",
        "\n",
        "\n",
        "plot_hist(hist)"
      ],
      "execution_count": null,
      "outputs": [
        {
          "output_type": "display_data",
          "data": {
            "image/png": "[encoded data removed]",
            "text/plain": [
              "<Figure size 432x288 with 1 Axes>"
            ]
          },
          "metadata": {
            "needs_background": "light"
          }
        }
      ]
    },
    {
      "cell_type": "code",
      "metadata": {
        "colab": {
          "base_uri": "https://localhost:8080/"
        },
        "id": "oBo-tjTUxJSj",
        "outputId": "22ec38c9-8c02-4793-bdc7-7accfff7ee0f"
      },
      "source": [
        "preds = model.evaluate(test_x, test_y)\n",
        "print (\"Loss = \" + str(preds[0]))\n",
        "print (\"Test Accuracy = \" + str(preds[1]))"
      ],
      "execution_count": null,
      "outputs": [
        {
          "output_type": "stream",
          "name": "stdout",
          "text": [
            "10/10 [==============================] - 15s 1s/step - loss: 13.2940 - accuracy: 0.3366\n",
            "Loss = 13.294021606445312\n",
            "Test Accuracy = 0.3366336524486542\n"
          ]
        }
      ]
    },
    {
      "cell_type": "code",
      "metadata": {
        "colab": {
          "base_uri": "https://localhost:8080/"
        },
        "id": "XZd9FbfXxJFf",
        "outputId": "0822bd99-9186-498c-ddab-32a8374a3780"
      },
      "source": [
        "pred = model.predict(test_x)\n",
        "\n",
        "from sklearn.metrics import confusion_matrix\n",
        "pred = np.argmax(pred, axis=1)\n",
        "# test_y = np.argmax(test_y, axis=1)\n",
        "confusion = confusion_matrix(test_y, pred)\n",
        "print('Confusion Matrix\\n')\n",
        "print(confusion, '\\n')\n",
        "print('accuracy', 248/303)"
      ],
      "execution_count": null,
      "outputs": [
        {
          "output_type": "stream",
          "name": "stdout",
          "text": [
            "Confusion Matrix\n",
            "\n",
            "[[76  9 10]\n",
            " [13 80  6]\n",
            " [13  4 92]] \n",
            "\n",
            "accuracy 0.8184818481848185\n"
          ]
        }
      ]
    },
    {
      "cell_type": "markdown",
      "metadata": {
        "id": "w2X5PCwJ0mZz"
      },
      "source": [
        "# optimizer"
      ]
    },
    {
      "cell_type": "code",
      "metadata": {
        "colab": {
          "base_uri": "https://localhost:8080/"
        },
        "id": "CTFLW6-OxgLn",
        "outputId": "f140ac73-cb95-4b39-e85d-60e1e2807f96"
      },
      "source": [
        "model = tf.keras.Model(inputs, outputs)\n",
        "\n",
        "lr_schedule = tf.keras.optimizers.schedules.ExponentialDecay(\n",
        "    initial_learning_rate=1e-2,\n",
        "    decay_steps=10000,\n",
        "    decay_rate=0.9)\n",
        "\n",
        "optimizer = tf.keras.optimizers.SGD(learning_rate=lr_schedule)\n",
        "model.compile(optimizer=optimizer, loss=\"categorical_crossentropy\", metrics=[\"accuracy\"] )\n",
        "# change optimizer and loss function\n",
        "\n",
        "model.summary()"
      ],
      "execution_count": null,
      "outputs": [
        {
          "output_type": "stream",
          "name": "stdout",
          "text": [
            "Model: \"model_6\"\n",
            "_________________________________________________________________\n",
            "Layer (type)                 Output Shape              Param #   \n",
            "=================================================================\n",
            "input_1 (InputLayer)         [(None, 224, 224, 3)]     0         \n",
            "_________________________________________________________________\n",
            "efficientnetb0 (Functional)  (None, 3)                 4053414   \n",
            "=================================================================\n",
            "Total params: 4,053,414\n",
            "Trainable params: 4,011,391\n",
            "Non-trainable params: 42,023\n",
            "_________________________________________________________________\n"
          ]
        }
      ]
    },
    {
      "cell_type": "code",
      "metadata": {
        "colab": {
          "base_uri": "https://localhost:8080/"
        },
        "id": "X1R65dvcS2IO",
        "outputId": "6bf7196f-cd1d-4a1c-a377-1209640d71a7"
      },
      "source": [
        "hist = model.fit(train_x, train_y, epochs=30, verbose=2)"
      ],
      "execution_count": null,
      "outputs": [
        {
          "output_type": "stream",
          "name": "stdout",
          "text": [
            "Epoch 1/30\n",
            "38/38 - 273s - loss: 0.0894 - accuracy: 0.9942\n",
            "Epoch 2/30\n",
            "38/38 - 264s - loss: 0.2888 - accuracy: 0.9810\n",
            "Epoch 3/30\n",
            "38/38 - 264s - loss: 0.0357 - accuracy: 0.9893\n",
            "Epoch 4/30\n",
            "38/38 - 263s - loss: 0.1638 - accuracy: 0.9719\n",
            "Epoch 5/30\n",
            "38/38 - 263s - loss: 0.0880 - accuracy: 0.9860\n",
            "Epoch 6/30\n",
            "38/38 - 263s - loss: 0.0398 - accuracy: 0.9893\n",
            "Epoch 7/30\n",
            "38/38 - 265s - loss: 0.0727 - accuracy: 0.9893\n",
            "Epoch 8/30\n",
            "38/38 - 265s - loss: 0.0115 - accuracy: 0.9975\n",
            "Epoch 9/30\n",
            "38/38 - 264s - loss: 0.0087 - accuracy: 0.9975\n",
            "Epoch 10/30\n",
            "38/38 - 265s - loss: 0.0389 - accuracy: 0.9975\n",
            "Epoch 11/30\n",
            "38/38 - 264s - loss: 0.0173 - accuracy: 0.9942\n",
            "Epoch 12/30\n",
            "38/38 - 263s - loss: 0.0206 - accuracy: 0.9959\n",
            "Epoch 13/30\n",
            "38/38 - 262s - loss: 0.0245 - accuracy: 0.9967\n",
            "Epoch 14/30\n",
            "38/38 - 262s - loss: 0.0166 - accuracy: 0.9967\n",
            "Epoch 15/30\n",
            "38/38 - 262s - loss: 0.1217 - accuracy: 0.9901\n",
            "Epoch 16/30\n",
            "38/38 - 262s - loss: 0.0210 - accuracy: 0.9917\n",
            "Epoch 17/30\n",
            "38/38 - 263s - loss: 0.0366 - accuracy: 0.9959\n",
            "Epoch 18/30\n",
            "38/38 - 262s - loss: 0.0581 - accuracy: 0.9934\n",
            "Epoch 19/30\n",
            "38/38 - 262s - loss: 0.0386 - accuracy: 0.9884\n",
            "Epoch 20/30\n",
            "38/38 - 263s - loss: 0.0262 - accuracy: 0.9959\n",
            "Epoch 21/30\n",
            "38/38 - 266s - loss: 0.0259 - accuracy: 0.9975\n",
            "Epoch 22/30\n",
            "38/38 - 264s - loss: 0.0289 - accuracy: 0.9884\n",
            "Epoch 23/30\n",
            "38/38 - 265s - loss: 0.0168 - accuracy: 0.9967\n",
            "Epoch 24/30\n",
            "38/38 - 263s - loss: 0.0561 - accuracy: 0.9926\n",
            "Epoch 25/30\n",
            "38/38 - 262s - loss: 0.0695 - accuracy: 0.9884\n",
            "Epoch 26/30\n",
            "38/38 - 263s - loss: 0.0122 - accuracy: 0.9975\n",
            "Epoch 27/30\n",
            "38/38 - 262s - loss: 0.0501 - accuracy: 0.9967\n",
            "Epoch 28/30\n",
            "38/38 - 262s - loss: 0.0070 - accuracy: 0.9975\n",
            "Epoch 29/30\n",
            "38/38 - 263s - loss: 0.0178 - accuracy: 0.9967\n",
            "Epoch 30/30\n",
            "38/38 - 262s - loss: 0.0351 - accuracy: 0.9975\n"
          ]
        }
      ]
    },
    {
      "cell_type": "code",
      "metadata": {
        "colab": {
          "base_uri": "https://localhost:8080/",
          "height": 295
        },
        "id": "bHtmv2uv0hIk",
        "outputId": "32e1d4a6-0fc0-44da-db20-d95a4e363c96"
      },
      "source": [
        "import matplotlib.pyplot as plt\n",
        "\n",
        "\n",
        "def plot_hist(hist):\n",
        "    plt.plot(hist.history[\"accuracy\"])\n",
        "    #plt.plot(hist.history[\"val_accuracy\"])\n",
        "    plt.title(\"model accuracy\")\n",
        "    plt.ylabel(\"accuracy\")\n",
        "    plt.xlabel(\"epoch\")\n",
        "    plt.legend([\"train\", \"validation\"], loc=\"upper left\")\n",
        "    plt.show()\n",
        "\n",
        "\n",
        "plot_hist(hist)"
      ],
      "execution_count": null,
      "outputs": [
        {
          "output_type": "display_data",
          "data": {
            "image/png": "[encoded data removed]",
            "text/plain": [
              "<Figure size 432x288 with 1 Axes>"
            ]
          },
          "metadata": {
            "needs_background": "light"
          }
        }
      ]
    },
    {
      "cell_type": "code",
      "metadata": {
        "colab": {
          "base_uri": "https://localhost:8080/"
        },
        "id": "jGcFNr1t0hEf",
        "outputId": "54fd9003-2f6e-43e4-c7fe-1d59a937f873"
      },
      "source": [
        "pred = model.predict(test_x)\n",
        "\n",
        "from sklearn.metrics import confusion_matrix\n",
        "pred = np.argmax(pred, axis=1)\n",
        "# test_y = np.argmax(test_y, axis=1)\n",
        "confusion = confusion_matrix(test_y, pred)\n",
        "print('Confusion Matrix\\n')\n",
        "print(confusion, '\\n')"
      ],
      "execution_count": null,
      "outputs": [
        {
          "output_type": "stream",
          "name": "stdout",
          "text": [
            "Confusion Matrix\n",
            "\n",
            "[[64 19 12]\n",
            " [ 6 87  6]\n",
            " [12  7 90]] \n",
            "\n"
          ]
        }
      ]
    },
    {
      "cell_type": "code",
      "metadata": {
        "colab": {
          "base_uri": "https://localhost:8080/"
        },
        "id": "R8KsDtiV0hBG",
        "outputId": "b94d2e88-1624-40e1-f588-67436eca2c0c"
      },
      "source": [
        "print('accuracy', (64+87+90)/303)"
      ],
      "execution_count": null,
      "outputs": [
        {
          "output_type": "stream",
          "name": "stdout",
          "text": [
            "accuracy 0.7953795379537953\n"
          ]
        }
      ]
    },
    {
      "cell_type": "code",
      "metadata": {
        "id": "eMblwTRW0g-M"
      },
      "source": [
        ""
      ],
      "execution_count": null,
      "outputs": []
    },
    {
      "cell_type": "code",
      "metadata": {
        "colab": {
          "base_uri": "https://localhost:8080/"
        },
        "id": "XbEoR9g-0g3L",
        "outputId": "e27fe2a6-6030-4dcd-e42c-ea5fb55c97f6"
      },
      "source": [
        "model = tf.keras.Model(inputs, outputs)\n",
        "\n",
        "model.compile(optimizer='sgd', loss=tf.keras.losses.KLDivergence(), metrics=[\"accuracy\"] )\n",
        "# change optimizer and loss function\n",
        "\n",
        "model.summary()"
      ],
      "execution_count": null,
      "outputs": [
        {
          "output_type": "stream",
          "name": "stdout",
          "text": [
            "Model: \"model_7\"\n",
            "_________________________________________________________________\n",
            "Layer (type)                 Output Shape              Param #   \n",
            "=================================================================\n",
            "input_1 (InputLayer)         [(None, 224, 224, 3)]     0         \n",
            "_________________________________________________________________\n",
            "efficientnetb0 (Functional)  (None, 3)                 4053414   \n",
            "=================================================================\n",
            "Total params: 4,053,414\n",
            "Trainable params: 4,011,391\n",
            "Non-trainable params: 42,023\n",
            "_________________________________________________________________\n"
          ]
        }
      ]
    },
    {
      "cell_type": "code",
      "metadata": {
        "colab": {
          "base_uri": "https://localhost:8080/"
        },
        "id": "MeZGNnAhWZno",
        "outputId": "b7b61660-e6bb-466c-84b4-383a671be70d"
      },
      "source": [
        "hist = model.fit(train_x, train_y, epochs=30, verbose=2)"
      ],
      "execution_count": null,
      "outputs": [
        {
          "output_type": "stream",
          "name": "stdout",
          "text": [
            "Epoch 1/30\n",
            "38/38 - 271s - loss: 0.0253 - accuracy: 0.9967\n",
            "Epoch 2/30\n",
            "38/38 - 265s - loss: 0.0312 - accuracy: 0.9983\n",
            "Epoch 3/30\n",
            "38/38 - 263s - loss: 0.0064 - accuracy: 0.9975\n",
            "Epoch 4/30\n",
            "38/38 - 263s - loss: 0.0541 - accuracy: 0.9851\n",
            "Epoch 5/30\n",
            "38/38 - 261s - loss: 0.0653 - accuracy: 0.9794\n",
            "Epoch 6/30\n",
            "38/38 - 261s - loss: 0.0627 - accuracy: 0.9909\n",
            "Epoch 7/30\n",
            "38/38 - 261s - loss: 0.0354 - accuracy: 0.9926\n",
            "Epoch 8/30\n",
            "38/38 - 260s - loss: 0.0459 - accuracy: 0.9934\n",
            "Epoch 9/30\n",
            "38/38 - 262s - loss: 0.0416 - accuracy: 0.9934\n",
            "Epoch 10/30\n",
            "38/38 - 262s - loss: 0.0628 - accuracy: 0.9860\n",
            "Epoch 11/30\n",
            "38/38 - 261s - loss: 0.0409 - accuracy: 0.9909\n",
            "Epoch 12/30\n",
            "38/38 - 260s - loss: 0.0275 - accuracy: 0.9942\n",
            "Epoch 13/30\n",
            "38/38 - 260s - loss: 0.0505 - accuracy: 0.9884\n",
            "Epoch 14/30\n",
            "38/38 - 260s - loss: 0.0266 - accuracy: 0.9934\n",
            "Epoch 15/30\n",
            "38/38 - 259s - loss: 0.0291 - accuracy: 0.9950\n",
            "Epoch 16/30\n",
            "38/38 - 261s - loss: 0.0210 - accuracy: 0.9926\n",
            "Epoch 17/30\n",
            "38/38 - 261s - loss: 0.0231 - accuracy: 0.9934\n",
            "Epoch 18/30\n",
            "38/38 - 260s - loss: 0.0163 - accuracy: 0.9967\n",
            "Epoch 19/30\n",
            "38/38 - 260s - loss: 0.0117 - accuracy: 0.9950\n",
            "Epoch 20/30\n",
            "38/38 - 261s - loss: 0.0090 - accuracy: 0.9975\n",
            "Epoch 21/30\n",
            "38/38 - 259s - loss: 0.0064 - accuracy: 0.9975\n",
            "Epoch 22/30\n",
            "38/38 - 260s - loss: 0.0260 - accuracy: 0.9950\n",
            "Epoch 23/30\n",
            "38/38 - 259s - loss: 0.0052 - accuracy: 0.9983\n",
            "Epoch 24/30\n",
            "38/38 - 259s - loss: 0.0093 - accuracy: 0.9950\n",
            "Epoch 25/30\n",
            "38/38 - 259s - loss: 0.0175 - accuracy: 0.9983\n",
            "Epoch 26/30\n",
            "38/38 - 258s - loss: 0.0072 - accuracy: 0.9959\n",
            "Epoch 27/30\n",
            "38/38 - 259s - loss: 0.0100 - accuracy: 0.9942\n",
            "Epoch 28/30\n",
            "38/38 - 258s - loss: 0.0239 - accuracy: 0.9959\n",
            "Epoch 29/30\n",
            "38/38 - 258s - loss: 0.0069 - accuracy: 0.9967\n",
            "Epoch 30/30\n",
            "38/38 - 258s - loss: 0.0179 - accuracy: 0.9983\n"
          ]
        }
      ]
    },
    {
      "cell_type": "code",
      "metadata": {
        "colab": {
          "base_uri": "https://localhost:8080/",
          "height": 295
        },
        "id": "MxGiPw0DmzJ1",
        "outputId": "6cb86267-2597-46e1-8029-4d2f0ca7f2c3"
      },
      "source": [
        "import matplotlib.pyplot as plt\n",
        "\n",
        "\n",
        "def plot_hist(hist):\n",
        "    plt.plot(hist.history[\"accuracy\"])\n",
        "    #plt.plot(hist.history[\"val_accuracy\"])\n",
        "    plt.title(\"model accuracy\")\n",
        "    plt.ylabel(\"accuracy\")\n",
        "    plt.xlabel(\"epoch\")\n",
        "    plt.legend([\"train\", \"validation\"], loc=\"upper left\")\n",
        "    plt.show()\n",
        "\n",
        "\n",
        "plot_hist(hist)"
      ],
      "execution_count": null,
      "outputs": [
        {
          "output_type": "display_data",
          "data": {
            "image/png": "[encoded data removed]",
            "text/plain": [
              "<Figure size 432x288 with 1 Axes>"
            ]
          },
          "metadata": {
            "needs_background": "light"
          }
        }
      ]
    },
    {
      "cell_type": "code",
      "metadata": {
        "colab": {
          "base_uri": "https://localhost:8080/"
        },
        "id": "XkZcQjaXm323",
        "outputId": "bbdc5b91-3bac-4451-946c-026a40c8fa33"
      },
      "source": [
        "pred = model.predict(test_x)\n",
        "\n",
        "from sklearn.metrics import confusion_matrix\n",
        "pred = np.argmax(pred, axis=1)\n",
        "# test_y = np.argmax(test_y, axis=1)\n",
        "confusion = confusion_matrix(test_y, pred)\n",
        "print('Confusion Matrix\\n')\n",
        "print(confusion, '\\n')"
      ],
      "execution_count": null,
      "outputs": [
        {
          "output_type": "stream",
          "name": "stdout",
          "text": [
            "Confusion Matrix\n",
            "\n",
            "[[72 13 10]\n",
            " [10 83  6]\n",
            " [13  4 92]] \n",
            "\n"
          ]
        }
      ]
    },
    {
      "cell_type": "code",
      "metadata": {
        "colab": {
          "base_uri": "https://localhost:8080/"
        },
        "id": "L2HgutSCRmvt",
        "outputId": "b524d847-8596-4780-b12c-bd984776c24b"
      },
      "source": [
        "print('accuracy', (72+83+92)/303)"
      ],
      "execution_count": null,
      "outputs": [
        {
          "output_type": "stream",
          "name": "stdout",
          "text": [
            "accuracy 0.8151815181518152\n"
          ]
        }
      ]
    }
  ]
}